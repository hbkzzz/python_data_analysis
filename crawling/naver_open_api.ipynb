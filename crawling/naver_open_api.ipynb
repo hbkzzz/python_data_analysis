{
 "metadata": {
  "language_info": {
   "codemirror_mode": {
    "name": "ipython",
    "version": 3
   },
   "file_extension": ".py",
   "mimetype": "text/x-python",
   "name": "python",
   "nbconvert_exporter": "python",
   "pygments_lexer": "ipython3",
   "version": "3.8.3-final"
  },
  "orig_nbformat": 2,
  "kernelspec": {
   "name": "python3",
   "display_name": "Python 3"
  }
 },
 "nbformat": 4,
 "nbformat_minor": 2,
 "cells": [
  {
   "cell_type": "code",
   "execution_count": 1,
   "metadata": {},
   "outputs": [
    {
     "output_type": "stream",
     "name": "stdout",
     "text": [
      "{\n\"lastBuildDate\": \"Mon, 23 Nov 2020 12:29:35 +0900\",\n\"total\": 1157,\n\"start\": 1,\n\"display\": 10,\n\"items\": [\n{\n\"title\": \"혼자 공부하는 <b>파이썬</b> (<b>파이썬</b> 최신 버전 반영)\",\n\"link\": \"http://book.naver.com/bookdb/book_detail.php?bid=15028688\",\n\"image\": \"https://bookthumb-phinf.pstatic.net/cover/150/286/15028688.jpg?type=m1&udate=20200915\",\n\"author\": \"윤인성\",\n\"price\": \"18000\",\n\"discount\": \"16200\",\n\"publisher\": \"한빛미디어\",\n\"pubdate\": \"20190610\",\n\"isbn\": \"1162241888 9791162241882\",\n\"description\": \"1:1 과외하듯 배우는 <b>파이썬</b> 프로그래밍 자습서(<b>파이썬</b> 최신 버전 반영)\\n이 책은 독학으로 프로그래밍 언어를 처음 배우려는 입문자가, 혹은 <b>파이썬</b>을 배우려는 입문자가 ‘꼭 필요한 내용을 제대로’ 학습할 수 있도록 구성했다. ‘무엇을’, ‘어떻게’ 학습해야 할지조차 모르는 입문자의 막연한 마음을 살펴... \"\n\n},\n{\n\"title\": \"Do it! 점프 투 <b>파이썬</b>\",\n\"link\": \"http://book.naver.com/bookdb/book_detail.php?bid=15052904\",\n\"image\": \"https://bookthumb-phinf.pstatic.net/cover/150/529/15052904.jpg?type=m1&udate=20200910\",\n\"author\": \"박응용\",\n\"price\": \"18800\",\n\"discount\": \"16920\",\n\"publisher\": \"이지스퍼블리싱\",\n\"pubdate\": \"20190620\",\n\"isbn\": \"1163030910 9791163030911\",\n\"description\": \"<b>파이썬</b> 4년 연속 베스트셀러 1위!\\n《DO IT! 점프 투 <b>파이썬</b>》 전면 개정판 출시!문과생도 중고등학생도 직장인도 프로그래밍에 눈뜨게 만든 바로 그 책이... 점프 투 <b>파이썬</b>》으로 출간되었던 이 책은 약 4년 동안의 피드백을 반영하여 초보자가 더 빠르게 입문하고, 더 깊이 있게 공부할 수 있도록 개정되었다.... \"\n\n},\n{\n\"title\": \"이것이 취업을 위한 코딩 테스트다 with <b>파이썬</b> (취업과 이직을 결정하는 알고리즘 인터뷰 완벽 가이드, C/C++, 자바 코드 제공)\",\n\"link\": \"http://book.naver.com/bookdb/book_detail.php?bid=16439154\",\n\"image\": \"https://bookthumb-phinf.pstatic.net/cover/164/391/16439154.jpg?type=m1&udate=20200928\",\n\"author\": \"나동빈\",\n\"price\": \"34000\",\n\"discount\": \"30600\",\n\"publisher\": \"한빛미디어\",\n\"pubdate\": \"20200805\",\n\"isbn\": \"1162243074 9791162243077\",\n\"description\": \"8가지 핵심 알고리즘 이론을 쉽게 설명하고, 관련 실전 문제를 풀이했다. 출제 유형 분석, 이론 설명, 기출문제 풀이까지! 어떤 코딩 테스트도 이 책 한 권으로 대비할 수 있을 것이다. 코딩 테스트에서 주로 선택하는 <b>파이썬</b>을 기반으로 설명되어 있으며, <b>파이썬</b> 코드 외에도 C/C++, 자바 코드를 추가로 제공한다.\"\n\n},\n{\n\"title\": \"<b>파이썬</b> 알고리즘 인터뷰 (95가지 알고리즘 문제 풀이로 완성하는 코딩 테스트)\",\n\"link\": \"http://book.naver.com/bookdb/book_detail.php?bid=16406247\",\n\"image\": \"https://bookthumb-phinf.pstatic.net/cover/164/062/16406247.jpg?type=m1&udate=20201028\",\n\"author\": \"박상길\",\n\"price\": \"38000\",\n\"discount\": \"34200\",\n\"publisher\": \"책만\",\n\"pubdate\": \"20200715\",\n\"isbn\": \"1189909170 9791189909178\",\n\"description\": \"물론, <b>파이썬</b>으로 구현하는 코드 풀이를 통해 성능 최적화 기법, <b>파이썬</b>의 핵심 문법과 다양한 실용 테크닉까지 배울 수 있는, 초보 개발자와 숙련 개발자... 이 책은 현업과 실무에 유용한 주요 알고리즘 이론을 깊숙이 이해하고, <b>파이썬</b>의 핵심 기능과 문법까지 상세하게 이해할 수 있는 취업용 코딩 테스트를... \"\n\n},\n{\n\"title\": \"<b>파이썬</b> 머신러닝 완벽 가이드 (다양한 캐글 예제와 함께 기초 알고리즘부터 최신 기법까지 배우는)\",\n\"link\": \"http://book.naver.com/bookdb/book_detail.php?bid=16238302\",\n\"image\": \"https://bookthumb-phinf.pstatic.net/cover/162/383/16238302.jpg?type=m1&udate=20200423\",\n\"author\": \"권철민\",\n\"price\": \"38000\",\n\"discount\": \"34200\",\n\"publisher\": \"위키북스\",\n\"pubdate\": \"20200207\",\n\"isbn\": \"1158391927 9791158391928\",\n\"description\": \"자세한 이론 설명과 <b>파이썬</b> 실습을 통해 머신러닝을 완벽하게 배울 수 있습니다!《<b>파이썬</b> 머신러닝 완벽 가이드》는 이론 위주의 머신러닝 책에서 탈피해 다양한 실전 예제를 직접 구현해 보면서 머신러닝을 체득할 수 있도록 만들었습니다.  캐글과 UCI 머신러닝 리포지토리에서 난이도가 있는 실습... \"\n\n},\n{\n\"title\": \"모두의 데이터 분석 with <b>파이썬</b> (실생활 예제로 시작하는 데이터 분석 첫걸음)\",\n\"link\": \"http://book.naver.com/bookdb/book_detail.php?bid=14820571\",\n\"image\": \"https://bookthumb-phinf.pstatic.net/cover/148/205/14820571.jpg?type=m1&udate=20200916\",\n\"author\": \"송석리|이현아\",\n\"price\": \"18000\",\n\"discount\": \"16200\",\n\"publisher\": \"길벗\",\n\"pubdate\": \"20190425\",\n\"isbn\": \"1160507813 9791160507812\",\n\"description\": \"데이터 다운로드부터 정제, 문제 해결 방법 구상, <b>파이썬</b> 코드로 구현까지 차근차근 진행하면서, 초보자가 데이터 분석의 성공적인 첫걸음을 내딛도록... 최소한의 <b>파이썬</b> 문법만을 사용하여 설명하므로 프로그래밍 경험이 적은 사람도 충분히 따라 할 수 있습니다. 이제 데이터 분석 전문가가 아니어도, 자신의... \"\n\n},\n{\n\"title\": \"모두의 <b>파이썬</b> (20일 만에 배우는 프로그래밍 기초)\",\n\"link\": \"http://book.naver.com/bookdb/book_detail.php?bid=14126163\",\n\"image\": \"https://bookthumb-phinf.pstatic.net/cover/141/261/14126163.jpg?type=m1&udate=20181105\",\n\"author\": \"이승찬\",\n\"price\": \"12000\",\n\"discount\": \"10800\",\n\"publisher\": \"길벗\",\n\"pubdate\": \"20181009\",\n\"isbn\": \"1160505853 9791160505856\",\n\"description\": \"<b>파이썬</b> 분야 & 어린이 코딩 교육 분야\\n2년 연속 베스트셀러! 개정판 출간!\\n\\n즐겁게 시작하는 나의 첫 프로그래밍!\\n프로그래밍을 한 번도 해본 적이 없어도 괜찮다. <b>파이썬</b>이 무엇인지 몰라도 상관 없다.... 어느새 <b>파이썬</b> 프로그램으로 멋진 그림을 그리고, 계산을 하고, 간단한 게임을 만들고, 수학 문제를... \"\n\n},\n{\n\"title\": \"모두의 <b>파이썬</b> (20일 만에 배우는 프로그래밍 기초)\",\n\"link\": \"http://book.naver.com/bookdb/book_detail.php?bid=10541921\",\n\"image\": \"https://bookthumb-phinf.pstatic.net/cover/105/419/10541921.jpg?type=m1&udate=20181102\",\n\"author\": \"이승찬\",\n\"price\": \"12000\",\n\"discount\": \"\",\n\"publisher\": \"길벗\",\n\"pubdate\": \"20160509\",\n\"isbn\": \"1186978899 9791186978894\",\n\"description\": \"<b>파이썬</b>이 무엇인지 몰라도 상관 없다. 《모두의 <b>파이썬</b>》은 어려운 개념과 복잡한 이론 설명은 최대한 줄이고, 초보자가 프로그래밍을 쉽게 배울 수... 어느새 <b>파이썬</b> 프로그램으로 멋진 그림을 그리고, 계산을 하고, 간단한 게임을 만들고, 수학 문제를 푸는 자신을 발견하게 될 것이다. 《모두의 <b>파이썬</b>》으로... \"\n\n},\n{\n\"title\": \"머신 러닝 교과서 with <b>파이썬</b>, 사이킷런, 텐서플로\",\n\"link\": \"http://book.naver.com/bookdb/book_detail.php?bid=14922892\",\n\"image\": \"https://bookthumb-phinf.pstatic.net/cover/149/228/14922892.jpg?type=m1&udate=20200423\",\n\"author\": \"세바스찬 라시카|바히드 미자리리\",\n\"price\": \"33000\",\n\"discount\": \"29700\",\n\"publisher\": \"길벗\",\n\"pubdate\": \"20190524\",\n\"isbn\": \"1160507961 9791160507966\",\n\"description\": \"<b>파이썬</b> 언어와 <b>파이썬</b> 기반의 머신 러닝 핵심 라이브러리(SCIPY, NUMPY, SCIKIT-LEARN, MATPLOTLIB, PANDAS)를 사용해 머신 러닝을, 텐서플로를 사용해 딥러닝을 실습하면서 머신 러닝과 딥러닝 핵심 알고리즘을 설명하고, 간단한 알고리즘은 처음부터 직접 구현해본다. 또한, 사이킷런의 기여자이자 MLXTEND... \"\n\n},\n{\n\"title\": \"두근두근 <b>파이썬</b> (쉽고! 재밌고! 흥미로운 코딩 맛!)\",\n\"link\": \"http://book.naver.com/bookdb/book_detail.php?bid=11573148\",\n\"image\": \"https://bookthumb-phinf.pstatic.net/cover/115/731/11573148.jpg?type=m1&udate=20200408\",\n\"author\": \"천인국\",\n\"price\": \"24000\",\n\"discount\": \"22800\",\n\"publisher\": \"생능출판사\",\n\"pubdate\": \"20170116\",\n\"isbn\": \"8970508937 9788970508931\",\n\"description\": \"『두근두근 <b>파이썬</b>』은 프로그래밍을 처음 시작하는 학습자도 쉽게 따라올 수 있도록 변수, 조건문, 반복문, 함수 등의 기본적인 프로그래밍 개념을 자세히 설명하여 탄탄한 기초를 만들 수 있다. 또한, 적절한 그림을 가능한 많이 사용하여 더욱 친숙하고, 지루하지 않으며 독자들이 이해하기 쉬우며... \"\n\n}\n]\n}\n\n"
     ]
    }
   ],
   "source": [
    "# 네이버 검색 API 활용하기(json 방식)\n",
    "import urllib.request\n",
    "\n",
    "# 애플리케이션 클라이언트 id 및 secret 설정\n",
    "client_id = \"iNWxPWauwZS6dVw9PbOq\"\n",
    "client_secret = \"WwTBV1lX7H\"\n",
    "\n",
    "# 도서검색 url과 옵션 설정\n",
    "url = \"https://openapi.naver.com/v1/search/book.json\"\n",
    "option = \"&disply=3&sort=count\"\n",
    "\n",
    "# 사용자로부터 입력받은 검색을 쿼리 문자열에 맞게 변환하세요.\n",
    "query = \"?query=\"+urllib.parse.quote(input(\"검색 : \"))\n",
    "\n",
    "# 이제 도서 검색 url과 검색 질의 및 옵션을 하나의 쿼리 문자열로 설정합니다.\n",
    "url_query = url + query + option\n",
    "\n",
    "# Open API 검색 요청 개체 설정\n",
    "request = urllib.request.Request(url_query)\n",
    "request.add_header(\"X-Naver-Client-Id\", client_id)\n",
    "request.add_header(\"X-Naver-Client-Secret\", client_secret)\n",
    "\n",
    "# 검색 요청 및 처리\n",
    "response = urllib.request.urlopen(request)\n",
    "rescode = response.getcode()\n",
    "if(rescode == 200):\n",
    "    response_body = response.read()\n",
    "    print(response_body.decode('utf-8'))\n",
    "else:\n",
    "    print(\"Error code : \" + rescode)"
   ]
  },
  {
   "cell_type": "code",
   "execution_count": 2,
   "metadata": {},
   "outputs": [
    {
     "output_type": "stream",
     "name": "stdout",
     "text": [
      "제목 : 혼자 공부하는 <b>파이썬</b> (<b>파이썬</b> 최신 버전 반영)\n설명 : 1:1 과외하듯 배우는 <b>파이썬</b> 프로그래밍 자습서(<b>파이썬</b> 최신 버전 반영)\n이 책은 독학으로 프로그래밍 언어를 처음 배우려는 입문자가, 혹은 <b>파이썬</b>을 배우려는 입문자가 ‘꼭 필요한 내용을 제대로’ 학습할 수 있도록 구성했다. ‘무엇을’, ‘어떻게’ 학습해야 할지조차 모르는 입문자의 막연한 마음을 살펴... \nurl :http://book.naver.com/bookdb/book_detail.php?bid=15028688\n=========================\n제목 : Do it! 점프 투 <b>파이썬</b>\n설명 : <b>파이썬</b> 4년 연속 베스트셀러 1위!\n《DO IT! 점프 투 <b>파이썬</b>》 전면 개정판 출시!문과생도 중고등학생도 직장인도 프로그래밍에 눈뜨게 만든 바로 그 책이... 점프 투 <b>파이썬</b>》으로 출간되었던 이 책은 약 4년 동안의 피드백을 반영하여 초보자가 더 빠르게 입문하고, 더 깊이 있게 공부할 수 있도록 개정되었다.... \nurl :http://book.naver.com/bookdb/book_detail.php?bid=15052904\n=========================\n제목 : 이것이 취업을 위한 코딩 테스트다 with <b>파이썬</b> (취업과 이직을 결정하는 알고리즘 인터뷰 완벽 가이드, C/C++, 자바 코드 제공)\n설명 : 8가지 핵심 알고리즘 이론을 쉽게 설명하고, 관련 실전 문제를 풀이했다. 출제 유형 분석, 이론 설명, 기출문제 풀이까지! 어떤 코딩 테스트도 이 책 한 권으로 대비할 수 있을 것이다. 코딩 테스트에서 주로 선택하는 <b>파이썬</b>을 기반으로 설명되어 있으며, <b>파이썬</b> 코드 외에도 C/C++, 자바 코드를 추가로 제공한다.\nurl :http://book.naver.com/bookdb/book_detail.php?bid=16439154\n=========================\n제목 : <b>파이썬</b> 알고리즘 인터뷰 (95가지 알고리즘 문제 풀이로 완성하는 코딩 테스트)\n설명 : 물론, <b>파이썬</b>으로 구현하는 코드 풀이를 통해 성능 최적화 기법, <b>파이썬</b>의 핵심 문법과 다양한 실용 테크닉까지 배울 수 있는, 초보 개발자와 숙련 개발자... 이 책은 현업과 실무에 유용한 주요 알고리즘 이론을 깊숙이 이해하고, <b>파이썬</b>의 핵심 기능과 문법까지 상세하게 이해할 수 있는 취업용 코딩 테스트를... \nurl :http://book.naver.com/bookdb/book_detail.php?bid=16406247\n=========================\n제목 : <b>파이썬</b> 머신러닝 완벽 가이드 (다양한 캐글 예제와 함께 기초 알고리즘부터 최신 기법까지 배우는)\n설명 : 자세한 이론 설명과 <b>파이썬</b> 실습을 통해 머신러닝을 완벽하게 배울 수 있습니다!《<b>파이썬</b> 머신러닝 완벽 가이드》는 이론 위주의 머신러닝 책에서 탈피해 다양한 실전 예제를 직접 구현해 보면서 머신러닝을 체득할 수 있도록 만들었습니다.  캐글과 UCI 머신러닝 리포지토리에서 난이도가 있는 실습... \nurl :http://book.naver.com/bookdb/book_detail.php?bid=16238302\n=========================\n제목 : 모두의 데이터 분석 with <b>파이썬</b> (실생활 예제로 시작하는 데이터 분석 첫걸음)\n설명 : 데이터 다운로드부터 정제, 문제 해결 방법 구상, <b>파이썬</b> 코드로 구현까지 차근차근 진행하면서, 초보자가 데이터 분석의 성공적인 첫걸음을 내딛도록... 최소한의 <b>파이썬</b> 문법만을 사용하여 설명하므로 프로그래밍 경험이 적은 사람도 충분히 따라 할 수 있습니다. 이제 데이터 분석 전문가가 아니어도, 자신의... \nurl :http://book.naver.com/bookdb/book_detail.php?bid=14820571\n=========================\n제목 : 모두의 <b>파이썬</b> (20일 만에 배우는 프로그래밍 기초)\n설명 : <b>파이썬</b> 분야 & 어린이 코딩 교육 분야\n2년 연속 베스트셀러! 개정판 출간!\n\n즐겁게 시작하는 나의 첫 프로그래밍!\n프로그래밍을 한 번도 해본 적이 없어도 괜찮다. <b>파이썬</b>이 무엇인지 몰라도 상관 없다.... 어느새 <b>파이썬</b> 프로그램으로 멋진 그림을 그리고, 계산을 하고, 간단한 게임을 만들고, 수학 문제를... \nurl :http://book.naver.com/bookdb/book_detail.php?bid=14126163\n=========================\n제목 : 모두의 <b>파이썬</b> (20일 만에 배우는 프로그래밍 기초)\n설명 : <b>파이썬</b>이 무엇인지 몰라도 상관 없다. 《모두의 <b>파이썬</b>》은 어려운 개념과 복잡한 이론 설명은 최대한 줄이고, 초보자가 프로그래밍을 쉽게 배울 수... 어느새 <b>파이썬</b> 프로그램으로 멋진 그림을 그리고, 계산을 하고, 간단한 게임을 만들고, 수학 문제를 푸는 자신을 발견하게 될 것이다. 《모두의 <b>파이썬</b>》으로... \nurl :http://book.naver.com/bookdb/book_detail.php?bid=10541921\n=========================\n제목 : 머신 러닝 교과서 with <b>파이썬</b>, 사이킷런, 텐서플로\n설명 : <b>파이썬</b> 언어와 <b>파이썬</b> 기반의 머신 러닝 핵심 라이브러리(SCIPY, NUMPY, SCIKIT-LEARN, MATPLOTLIB, PANDAS)를 사용해 머신 러닝을, 텐서플로를 사용해 딥러닝을 실습하면서 머신 러닝과 딥러닝 핵심 알고리즘을 설명하고, 간단한 알고리즘은 처음부터 직접 구현해본다. 또한, 사이킷런의 기여자이자 MLXTEND... \nurl :http://book.naver.com/bookdb/book_detail.php?bid=14922892\n=========================\n제목 : 두근두근 <b>파이썬</b> (쉽고! 재밌고! 흥미로운 코딩 맛!)\n설명 : 『두근두근 <b>파이썬</b>』은 프로그래밍을 처음 시작하는 학습자도 쉽게 따라올 수 있도록 변수, 조건문, 반복문, 함수 등의 기본적인 프로그래밍 개념을 자세히 설명하여 탄탄한 기초를 만들 수 있다. 또한, 적절한 그림을 가능한 많이 사용하여 더욱 친숙하고, 지루하지 않으며 독자들이 이해하기 쉬우며... \nurl :http://book.naver.com/bookdb/book_detail.php?bid=11573148\n=========================\n"
     ]
    }
   ],
   "source": [
    "# 출력할 데이터 정리\n",
    "import urllib.request\n",
    "import json\n",
    "\n",
    "\n",
    "def searchbook(title):\n",
    "    client_id = \"iNWxPWauwZS6dVw9PbOq\"\n",
    "    client_secret = \"WwTBV1lX7H\"\n",
    "\n",
    "    url = \"https://openapi.naver.com/v1/search/book.json\"\n",
    "    option = \"&disply=3&sort=count\"\n",
    "    query = \"?query=\" + urllib.parse.quote(title)\n",
    "    url_query = url + query + option\n",
    "\n",
    "    request = urllib.request.Request(url_query)\n",
    "    request.add_header(\"X-Naver-Client-Id\", client_id)\n",
    "    request.add_header(\"X-Naver-Client-Secret\", client_secret)\n",
    "    response = urllib.request.urlopen(request)\n",
    "    rescode = response.getcode()\n",
    "    if(rescode == 200):\n",
    "        return response.read().decode('utf-8')\n",
    "    else:\n",
    "        return None\n",
    "\n",
    "\n",
    "def showitem(item):\n",
    "    print(\"제목 : \" + item['title'])\n",
    "    print(\"설명 : \" + item['description'])\n",
    "    print(\"url :\" + item['link'])\n",
    "    print(\"=========================\")\n",
    "\n",
    "\n",
    "def main():\n",
    "    res = searchbook(input(\"검색 : \"))\n",
    "    if(res == None):\n",
    "        print(\"검색 실패\")\n",
    "        exit()\n",
    "    \n",
    "    jres = json.loads(res)\n",
    "    if(jres == None):\n",
    "        print(\"json.loads 실패\")\n",
    "        exit()\n",
    "    for post in jres['items']:\n",
    "        showitem(post)\n",
    "\n",
    "\n",
    "if __name__ == '__main__':\n",
    "    main()"
   ]
  },
  {
   "cell_type": "code",
   "execution_count": 3,
   "metadata": {},
   "outputs": [
    {
     "output_type": "stream",
     "name": "stdout",
     "text": [
      "<----------------------\n제목 : 혼자 공부하는 <b>파이썬</b> (<b>파이썬</b> 최신 버전 반영)\n설명 : 1:1 과외하듯 배우는 <b>파이썬</b> 프로그래밍 자습서(<b>파이썬</b> 최신 버전 반영)\n이 책은 독학으로 프로그래밍 언어를 처음 배우려는 입문자가, 혹은 <b>파이썬</b>을 배우려는 입문자가 ‘꼭 필요한 내용을 제대로’ 학습할 수 있도록 구성했다. ‘무엇을’, ‘어떻게’ 학습해야 할지조차 모르는 입문자의 막연한 마음을 살펴... \n---------------------->\n\n<----------------------\n제목 : Do it! 점프 투 <b>파이썬</b>\n설명 : <b>파이썬</b> 4년 연속 베스트셀러 1위!\n《DO IT! 점프 투 <b>파이썬</b>》 전면 개정판 출시!문과생도 중고등학생도 직장인도 프로그래밍에 눈뜨게 만든 바로 그 책이... 점프 투 <b>파이썬</b>》으로 출간되었던 이 책은 약 4년 동안의 피드백을 반영하여 초보자가 더 빠르게 입문하고, 더 깊이 있게 공부할 수 있도록 개정되었다.... \n---------------------->\n\n<----------------------\n제목 : 이것이 취업을 위한 코딩 테스트다 with <b>파이썬</b> (취업과 이직을 결정하는 알고리즘 인터뷰 완벽 가이드, C/C++, 자바 코드 제공)\n설명 : 8가지 핵심 알고리즘 이론을 쉽게 설명하고, 관련 실전 문제를 풀이했다. 출제 유형 분석, 이론 설명, 기출문제 풀이까지! 어떤 코딩 테스트도 이 책 한 권으로 대비할 수 있을 것이다. 코딩 테스트에서 주로 선택하는 <b>파이썬</b>을 기반으로 설명되어 있으며, <b>파이썬</b> 코드 외에도 C/C++, 자바 코드를 추가로 제공한다.\n---------------------->\n\n<----------------------\n제목 : <b>파이썬</b> 알고리즘 인터뷰 (95가지 알고리즘 문제 풀이로 완성하는 코딩 테스트)\n설명 : 물론, <b>파이썬</b>으로 구현하는 코드 풀이를 통해 성능 최적화 기법, <b>파이썬</b>의 핵심 문법과 다양한 실용 테크닉까지 배울 수 있는, 초보 개발자와 숙련 개발자... 이 책은 현업과 실무에 유용한 주요 알고리즘 이론을 깊숙이 이해하고, <b>파이썬</b>의 핵심 기능과 문법까지 상세하게 이해할 수 있는 취업용 코딩 테스트를... \n---------------------->\n\n<----------------------\n제목 : <b>파이썬</b> 머신러닝 완벽 가이드 (다양한 캐글 예제와 함께 기초 알고리즘부터 최신 기법까지 배우는)\n설명 : 자세한 이론 설명과 <b>파이썬</b> 실습을 통해 머신러닝을 완벽하게 배울 수 있습니다!《<b>파이썬</b> 머신러닝 완벽 가이드》는 이론 위주의 머신러닝 책에서 탈피해 다양한 실전 예제를 직접 구현해 보면서 머신러닝을 체득할 수 있도록 만들었습니다.  캐글과 UCI 머신러닝 리포지토리에서 난이도가 있는 실습... \n---------------------->\n\n<----------------------\n제목 : 모두의 데이터 분석 with <b>파이썬</b> (실생활 예제로 시작하는 데이터 분석 첫걸음)\n설명 : 데이터 다운로드부터 정제, 문제 해결 방법 구상, <b>파이썬</b> 코드로 구현까지 차근차근 진행하면서, 초보자가 데이터 분석의 성공적인 첫걸음을 내딛도록... 최소한의 <b>파이썬</b> 문법만을 사용하여 설명하므로 프로그래밍 경험이 적은 사람도 충분히 따라 할 수 있습니다. 이제 데이터 분석 전문가가 아니어도, 자신의... \n---------------------->\n\n<----------------------\n제목 : 모두의 <b>파이썬</b> (20일 만에 배우는 프로그래밍 기초)\n설명 : <b>파이썬</b> 분야 & 어린이 코딩 교육 분야\n2년 연속 베스트셀러! 개정판 출간!\n\n즐겁게 시작하는 나의 첫 프로그래밍!\n프로그래밍을 한 번도 해본 적이 없어도 괜찮다. <b>파이썬</b>이 무엇인지 몰라도 상관 없다.... 어느새 <b>파이썬</b> 프로그램으로 멋진 그림을 그리고, 계산을 하고, 간단한 게임을 만들고, 수학 문제를... \n---------------------->\n\n<----------------------\n제목 : 모두의 <b>파이썬</b> (20일 만에 배우는 프로그래밍 기초)\n설명 : <b>파이썬</b>이 무엇인지 몰라도 상관 없다. 《모두의 <b>파이썬</b>》은 어려운 개념과 복잡한 이론 설명은 최대한 줄이고, 초보자가 프로그래밍을 쉽게 배울 수... 어느새 <b>파이썬</b> 프로그램으로 멋진 그림을 그리고, 계산을 하고, 간단한 게임을 만들고, 수학 문제를 푸는 자신을 발견하게 될 것이다. 《모두의 <b>파이썬</b>》으로... \n---------------------->\n\n<----------------------\n제목 : 머신 러닝 교과서 with <b>파이썬</b>, 사이킷런, 텐서플로\n설명 : <b>파이썬</b> 언어와 <b>파이썬</b> 기반의 머신 러닝 핵심 라이브러리(SCIPY, NUMPY, SCIKIT-LEARN, MATPLOTLIB, PANDAS)를 사용해 머신 러닝을, 텐서플로를 사용해 딥러닝을 실습하면서 머신 러닝과 딥러닝 핵심 알고리즘을 설명하고, 간단한 알고리즘은 처음부터 직접 구현해본다. 또한, 사이킷런의 기여자이자 MLXTEND... \n---------------------->\n\n<----------------------\n제목 : 두근두근 <b>파이썬</b> (쉽고! 재밌고! 흥미로운 코딩 맛!)\n설명 : 『두근두근 <b>파이썬</b>』은 프로그래밍을 처음 시작하는 학습자도 쉽게 따라올 수 있도록 변수, 조건문, 반복문, 함수 등의 기본적인 프로그래밍 개념을 자세히 설명하여 탄탄한 기초를 만들 수 있다. 또한, 적절한 그림을 가능한 많이 사용하여 더욱 친숙하고, 지루하지 않으며 독자들이 이해하기 쉬우며... \n---------------------->\n\n"
     ]
    }
   ],
   "source": [
    "# 네이버 검색 API 활용하기(xml방식)\n",
    "import urllib.request\n",
    "from bs4 import BeautifulSoup\n",
    "\n",
    "\n",
    "def searchbook(title):\n",
    "    # 애플리케이션 클라이언트 id 및 secret 설정\n",
    "    client_id = \"iNWxPWauwZS6dVw9PbOq\"\n",
    "    client_secret = \"WwTBV1lX7H\"\n",
    "\n",
    "    # 도서검색 url\n",
    "    url = \"https://openapi.naver.com/v1/search/book.xml\"\n",
    "    option = \"&disply=3&sort=count\"\n",
    "    query = \"?query=\" + urllib.parse.quote(title)\n",
    "    url_query = url + query + option\n",
    "\n",
    "    # Open API 검색 요청 개체 설정\n",
    "    request = urllib.request.Request(url_query)\n",
    "    request.add_header(\"X-Naver-Client-Id\", client_id)\n",
    "    request.add_header(\"X-Naver-Client-Secret\", client_secret)\n",
    "\n",
    "    # 검색 요청 및 처리\n",
    "    response = urllib.request.urlopen(request)\n",
    "    rescode = response.getcode()\n",
    "    if(rescode == 200):\n",
    "        return response.read().decode('utf-8')\n",
    "    else:\n",
    "        return None\n",
    "\n",
    "\n",
    "# 검색 결과 항목 정보 출력하기\n",
    "def showitem(item):\n",
    "    print(\"<----------------------\")\n",
    "    print(\"제목 : \" + item.title.get_text())\n",
    "    print(\"설명 : \" + item.description.get_text())\n",
    "    print(\"---------------------->\\n\")\n",
    "\n",
    "\n",
    "# 프로그램 진입점\n",
    "def main():\n",
    "    # 검색 요청\n",
    "    res = searchbook(input(\"검색 : \"))\n",
    "    if(res == None):\n",
    "        print(\"검색 실패\")\n",
    "        exit()\n",
    "\n",
    "    # BeatifulSoup을 이용한 데이터 처리\n",
    "    xmlsoup = BeautifulSoup(res,'html.parser')\n",
    "    items = xmlsoup.find_all('item')\n",
    "    for item in items:\n",
    "        showitem(item)\n",
    "\n",
    "\n",
    "if __name__ == '__main__':\n",
    "    main()"
   ]
  },
  {
   "cell_type": "code",
   "execution_count": null,
   "metadata": {},
   "outputs": [],
   "source": []
  }
 ]
}