{
 "metadata": {
  "language_info": {
   "codemirror_mode": {
    "name": "ipython",
    "version": 3
   },
   "file_extension": ".py",
   "mimetype": "text/x-python",
   "name": "python",
   "nbconvert_exporter": "python",
   "pygments_lexer": "ipython3",
   "version": "3.8.3-final"
  },
  "orig_nbformat": 2,
  "kernelspec": {
   "name": "python3",
   "display_name": "Python 3"
  }
 },
 "nbformat": 4,
 "nbformat_minor": 2,
 "cells": [
  {
   "cell_type": "code",
   "execution_count": 1,
   "metadata": {},
   "outputs": [
    {
     "output_type": "stream",
     "name": "stdout",
     "text": [
      "{\n\t\"header\" : {\n\t\t\"description\" : \"소상공인시장진흥공단 주요상권\"\n\t\t,\"resultCode\" : \"00\"\n\t\t,\"resultMsg\" : \"NORMAL SERVICE\"\n\t},\n\t\"body\" : {\n\t\t\t\"items\" : [\n\t\t\t\t{\n\t\t\t\t\"trarNo\" : 2214\n\t\t\t\t,\"mainTrarNm\" : \"을지로4가역\"\n\t\t\t\t,\"ctprvnCd\" : \"11\"\n\t\t\t\t,\"ctprvnNm\" : \"서울특별시\"\n\t\t\t\t,\"signguCd\" : \"11140\"\n\t\t\t\t,\"signguNm\" : \"중구\"\n\t\t\t\t,\"trarArea\" : 88434.9\n\t\t\t\t,\"coordNum\" : 8\n\t\t\t\t,\"coords\" : \"POLYGON ((126.999081 37.566789, 127.002102 37.566937, 127.001981 37.568644, 127.001871 37.568655, 127.001873 37.569521, 126.998065 37.568812, 126.998213 37.566753, 126.999081 37.566789))\"\n\t\t\t\t,\"stdrDt\" : \"2015-12-17\"\n\t\t\t\t}\n\t\t\t\t,{\n\t\t\t\t\"trarNo\" : 2216\n\t\t\t\t,\"mainTrarNm\" : \"동대문시장\"\n\t\t\t\t,\"ctprvnCd\" : \"11\"\n\t\t\t\t,\"ctprvnNm\" : \"서울특별시\"\n\t\t\t\t,\"signguCd\" : \"11140\"\n\t\t\t\t,\"signguNm\" : \"중구\"\n\t\t\t\t,\"trarArea\" : 68658\n\t\t\t\t,\"coordNum\" : 15\n\t\t\t\t,\"coords\" : \"POLYGON ((127.009453 37.568775, 127.009445 37.569396, 127.009558 37.569397, 127.009543 37.569686, 127.00659 37.569553, 127.006688 37.568112, 127.007709 37.567931, 127.007098 37.567124, 127.006951 37.56706, 127.006146 37.56717, 127.005929 37.566438, 127.007632 37.56611, 127.008198 37.566935, 127.008107 37.566979, 127.009453 37.568775))\"\n\t\t\t\t,\"stdrDt\" : \"2015-12-17\"\n\t\t\t\t}\n\t\t\t\t,{\n\t\t\t\t\"trarNo\" : 2207\n\t\t\t\t,\"mainTrarNm\" : \"동대문역사문화공원역\"\n\t\t\t\t,\"ctprvnCd\" : \"11\"\n\t\t\t\t,\"ctprvnNm\" : \"서울특별시\"\n\t\t\t\t,\"signguCd\" : \"11140\"\n\t\t\t\t,\"signguNm\" : \"중구\"\n\t\t\t\t,\"trarArea\" : 81499.1\n\t\t\t\t,\"coordNum\" : 8\n\t\t\t\t,\"coords\" : \"POLYGON ((127.007565 37.565945, 127.004846 37.566394, 127.002877 37.566759, 127.002341 37.566737, 127.00252 37.5647, 127.004682 37.564852, 127.007062 37.564448, 127.007565 37.565945))\"\n\t\t\t\t,\"stdrDt\" : \"2015-12-17\"\n\t\t\t\t}\n\t\t\t\t,{\n\t\t\t\t\"trarNo\" : 2226\n\t\t\t\t,\"mainTrarNm\" : \"동대문시장\"\n\t\t\t\t,\"ctprvnCd\" : \"11\"\n\t\t\t\t,\"ctprvnNm\" : \"서울특별시\"\n\t\t\t\t,\"signguCd\" : \"11110\"\n\t\t\t\t,\"signguNm\" : \"종로구\"\n\t\t\t\t,\"trarArea\" : 82364.6\n\t\t\t\t,\"coordNum\" : 28\n\t\t\t\t,\"coords\" : \"POLYGON ((127.009388 37.570565, 127.008984 37.571182, 127.008537 37.57103, 127.006426 37.570998, 127.00658 37.570351, 127.006482 37.570257, 127.006356 37.570327, 127.006198 37.57099, 127.005964 37.570986, 127.005915 37.570267, 127.005804 37.570193, 127.005691 37.570283, 127.005737 37.570983, 127.005376 37.570977, 127.005356 37.570376, 127.005244 37.570291, 127.00513 37.570373, 127.005149 37.570973, 127.003561 37.570947, 127.003571 37.570412, 127.003461 37.570336, 127.003348 37.570409, 127.003335 37.570944, 127.002014 37.570911, 127.002118 37.569718, 127.006712 37.569739, 127.009542 37.569875, 127.009388 37.570565))\"\n\t\t\t\t,\"stdrDt\" : \"2015-12-17\"\n\t\t\t\t}\n\t\t\t\t,{\n\t\t\t\t\"trarNo\" : 2225\n\t\t\t\t,\"mainTrarNm\" : \"서울 종로구 종로5가역_1\"\n\t\t\t\t,\"ctprvnCd\" : \"11\"\n\t\t\t\t,\"ctprvnNm\" : \"서울특별시\"\n\t\t\t\t,\"signguCd\" : \"11110\"\n\t\t\t\t,\"signguNm\" : \"종로구\"\n\t\t\t\t,\"trarArea\" : 50246.7\n\t\t\t\t,\"coordNum\" : 20\n\t\t\t\t,\"coords\" : \"POLYGON ((127.001795 37.57082, 127.000088 37.570774, 127.000052 37.570281, 126.999763 37.57022, 126.99964 37.570323, 126.999836 37.570406, 126.999859 37.570757, 126.999321 37.570717, 126.999367 37.570303, 126.999265 37.570221, 126.999145 37.570287, 126.999096 37.5707, 126.999078 37.570524, 126.99887 37.570325, 126.998761 37.570381, 126.998725 37.570672, 126.997866 37.570624, 126.998052 37.568996, 127.001892 37.569705, 127.001795 37.57082))\"\n\t\t\t\t,\"stdrDt\" : \"2015-12-17\"\n\t\t\t\t}\n\t\t\t]\n\t}\n}\n\n"
     ]
    }
   ],
   "source": [
    "import urllib.request\n",
    "\n",
    "serviceKey = \"12mI7L%2FG%2Bl5w1Z1VvsmpBb7ttg7VR7OwYCPao%2BfM0Af3D4JsMJsEuID7DQeFO%2FeLy1AXCYdK%2BrPevDg9WgOX5g%3D%3D\"\n",
    "\n",
    "url = \"http://apis.data.go.kr/B553077/api/open/sdsc/storeZoneInRadius?radius=500&cx=127.004528&cy=37.567538&ServiceKey=\" + serviceKey + \"&type=json\"\n",
    "\n",
    "response = urllib.request.urlopen(url)\n",
    "\n",
    "json_str = response.read().decode(\"utf-8\")\n",
    "print(json_str)"
   ]
  },
  {
   "cell_type": "code",
   "execution_count": 2,
   "metadata": {},
   "outputs": [
    {
     "output_type": "stream",
     "name": "stdout",
     "text": [
      "{'header': {'description': '소상공인시장진흥공단 주요상권', 'resultCode': '00', 'resultMsg': 'NORMAL SERVICE'}, 'body': {'items': [{'trarNo': 2214, 'mainTrarNm': '을지로4가역', 'ctprvnCd': '11', 'ctprvnNm': '서울특별시', 'signguCd': '11140', 'signguNm': '중구', 'trarArea': 88434.9, 'coordNum': 8, 'coords': 'POLYGON ((126.999081 37.566789, 127.002102 37.566937, 127.001981 37.568644, 127.001871 37.568655, 127.001873 37.569521, 126.998065 37.568812, 126.998213 37.566753, 126.999081 37.566789))', 'stdrDt': '2015-12-17'}, {'trarNo': 2216, 'mainTrarNm': '동대문시장', 'ctprvnCd': '11', 'ctprvnNm': '서울특별시', 'signguCd': '11140', 'signguNm': '중구', 'trarArea': 68658, 'coordNum': 15, 'coords': 'POLYGON ((127.009453 37.568775, 127.009445 37.569396, 127.009558 37.569397, 127.009543 37.569686, 127.00659 37.569553, 127.006688 37.568112, 127.007709 37.567931, 127.007098 37.567124, 127.006951 37.56706, 127.006146 37.56717, 127.005929 37.566438, 127.007632 37.56611, 127.008198 37.566935, 127.008107 37.566979, 127.009453 37.568775))', 'stdrDt': '2015-12-17'}, {'trarNo': 2207, 'mainTrarNm': '동대문역사문화공원역', 'ctprvnCd': '11', 'ctprvnNm': '서울특별시', 'signguCd': '11140', 'signguNm': '중구', 'trarArea': 81499.1, 'coordNum': 8, 'coords': 'POLYGON ((127.007565 37.565945, 127.004846 37.566394, 127.002877 37.566759, 127.002341 37.566737, 127.00252 37.5647, 127.004682 37.564852, 127.007062 37.564448, 127.007565 37.565945))', 'stdrDt': '2015-12-17'}, {'trarNo': 2226, 'mainTrarNm': '동대문시장', 'ctprvnCd': '11', 'ctprvnNm': '서울특별시', 'signguCd': '11110', 'signguNm': '종로구', 'trarArea': 82364.6, 'coordNum': 28, 'coords': 'POLYGON ((127.009388 37.570565, 127.008984 37.571182, 127.008537 37.57103, 127.006426 37.570998, 127.00658 37.570351, 127.006482 37.570257, 127.006356 37.570327, 127.006198 37.57099, 127.005964 37.570986, 127.005915 37.570267, 127.005804 37.570193, 127.005691 37.570283, 127.005737 37.570983, 127.005376 37.570977, 127.005356 37.570376, 127.005244 37.570291, 127.00513 37.570373, 127.005149 37.570973, 127.003561 37.570947, 127.003571 37.570412, 127.003461 37.570336, 127.003348 37.570409, 127.003335 37.570944, 127.002014 37.570911, 127.002118 37.569718, 127.006712 37.569739, 127.009542 37.569875, 127.009388 37.570565))', 'stdrDt': '2015-12-17'}, {'trarNo': 2225, 'mainTrarNm': '서울 종로구 종로5가역_1', 'ctprvnCd': '11', 'ctprvnNm': '서울특별시', 'signguCd': '11110', 'signguNm': '종로구', 'trarArea': 50246.7, 'coordNum': 20, 'coords': 'POLYGON ((127.001795 37.57082, 127.000088 37.570774, 127.000052 37.570281, 126.999763 37.57022, 126.99964 37.570323, 126.999836 37.570406, 126.999859 37.570757, 126.999321 37.570717, 126.999367 37.570303, 126.999265 37.570221, 126.999145 37.570287, 126.999096 37.5707, 126.999078 37.570524, 126.99887 37.570325, 126.998761 37.570381, 126.998725 37.570672, 126.997866 37.570624, 126.998052 37.568996, 127.001892 37.569705, 127.001795 37.57082))', 'stdrDt': '2015-12-17'}]}}\n"
     ]
    }
   ],
   "source": [
    "import json\n",
    "json_object = json.loads(json_str)\n",
    "json_object\n",
    "print(json_object)"
   ]
  },
  {
   "cell_type": "code",
   "execution_count": 3,
   "metadata": {},
   "outputs": [
    {
     "output_type": "execute_result",
     "data": {
      "text/plain": [
       "[[{'trarNo': 2214,\n",
       "   'mainTrarNm': '을지로4가역',\n",
       "   'ctprvnCd': '11',\n",
       "   'ctprvnNm': '서울특별시',\n",
       "   'signguCd': '11140',\n",
       "   'signguNm': '중구',\n",
       "   'trarArea': 88434.9,\n",
       "   'coordNum': 8,\n",
       "   'coords': 'POLYGON ((126.999081 37.566789, 127.002102 37.566937, 127.001981 37.568644, 127.001871 37.568655, 127.001873 37.569521, 126.998065 37.568812, 126.998213 37.566753, 126.999081 37.566789))',\n",
       "   'stdrDt': '2015-12-17'},\n",
       "  {'trarNo': 2216,\n",
       "   'mainTrarNm': '동대문시장',\n",
       "   'ctprvnCd': '11',\n",
       "   'ctprvnNm': '서울특별시',\n",
       "   'signguCd': '11140',\n",
       "   'signguNm': '중구',\n",
       "   'trarArea': 68658,\n",
       "   'coordNum': 15,\n",
       "   'coords': 'POLYGON ((127.009453 37.568775, 127.009445 37.569396, 127.009558 37.569397, 127.009543 37.569686, 127.00659 37.569553, 127.006688 37.568112, 127.007709 37.567931, 127.007098 37.567124, 127.006951 37.56706, 127.006146 37.56717, 127.005929 37.566438, 127.007632 37.56611, 127.008198 37.566935, 127.008107 37.566979, 127.009453 37.568775))',\n",
       "   'stdrDt': '2015-12-17'},\n",
       "  {'trarNo': 2207,\n",
       "   'mainTrarNm': '동대문역사문화공원역',\n",
       "   'ctprvnCd': '11',\n",
       "   'ctprvnNm': '서울특별시',\n",
       "   'signguCd': '11140',\n",
       "   'signguNm': '중구',\n",
       "   'trarArea': 81499.1,\n",
       "   'coordNum': 8,\n",
       "   'coords': 'POLYGON ((127.007565 37.565945, 127.004846 37.566394, 127.002877 37.566759, 127.002341 37.566737, 127.00252 37.5647, 127.004682 37.564852, 127.007062 37.564448, 127.007565 37.565945))',\n",
       "   'stdrDt': '2015-12-17'},\n",
       "  {'trarNo': 2226,\n",
       "   'mainTrarNm': '동대문시장',\n",
       "   'ctprvnCd': '11',\n",
       "   'ctprvnNm': '서울특별시',\n",
       "   'signguCd': '11110',\n",
       "   'signguNm': '종로구',\n",
       "   'trarArea': 82364.6,\n",
       "   'coordNum': 28,\n",
       "   'coords': 'POLYGON ((127.009388 37.570565, 127.008984 37.571182, 127.008537 37.57103, 127.006426 37.570998, 127.00658 37.570351, 127.006482 37.570257, 127.006356 37.570327, 127.006198 37.57099, 127.005964 37.570986, 127.005915 37.570267, 127.005804 37.570193, 127.005691 37.570283, 127.005737 37.570983, 127.005376 37.570977, 127.005356 37.570376, 127.005244 37.570291, 127.00513 37.570373, 127.005149 37.570973, 127.003561 37.570947, 127.003571 37.570412, 127.003461 37.570336, 127.003348 37.570409, 127.003335 37.570944, 127.002014 37.570911, 127.002118 37.569718, 127.006712 37.569739, 127.009542 37.569875, 127.009388 37.570565))',\n",
       "   'stdrDt': '2015-12-17'},\n",
       "  {'trarNo': 2225,\n",
       "   'mainTrarNm': '서울 종로구 종로5가역_1',\n",
       "   'ctprvnCd': '11',\n",
       "   'ctprvnNm': '서울특별시',\n",
       "   'signguCd': '11110',\n",
       "   'signguNm': '종로구',\n",
       "   'trarArea': 50246.7,\n",
       "   'coordNum': 20,\n",
       "   'coords': 'POLYGON ((127.001795 37.57082, 127.000088 37.570774, 127.000052 37.570281, 126.999763 37.57022, 126.99964 37.570323, 126.999836 37.570406, 126.999859 37.570757, 126.999321 37.570717, 126.999367 37.570303, 126.999265 37.570221, 126.999145 37.570287, 126.999096 37.5707, 126.999078 37.570524, 126.99887 37.570325, 126.998761 37.570381, 126.998725 37.570672, 126.997866 37.570624, 126.998052 37.568996, 127.001892 37.569705, 127.001795 37.57082))',\n",
       "   'stdrDt': '2015-12-17'}]]"
      ]
     },
     "metadata": {},
     "execution_count": 3
    }
   ],
   "source": [
    "import pandas as pd\n",
    "from pandas.io.json import json_normalize\n",
    "\n",
    "body = [json_object['body']['items']]\n",
    "body"
   ]
  },
  {
   "cell_type": "code",
   "execution_count": 4,
   "metadata": {},
   "outputs": [
    {
     "output_type": "execute_result",
     "data": {
      "text/plain": [
       "   trarNo      mainTrarNm ctprvnCd ctprvnNm signguCd signguNm  trarArea  \\\n",
       "0    2214          을지로4가역       11    서울특별시    11140       중구   88434.9   \n",
       "1    2216           동대문시장       11    서울특별시    11140       중구   68658.0   \n",
       "2    2207      동대문역사문화공원역       11    서울특별시    11140       중구   81499.1   \n",
       "3    2226           동대문시장       11    서울특별시    11110      종로구   82364.6   \n",
       "4    2225  서울 종로구 종로5가역_1       11    서울특별시    11110      종로구   50246.7   \n",
       "\n",
       "   coordNum                                             coords      stdrDt  \n",
       "0         8  POLYGON ((126.999081 37.566789, 127.002102 37....  2015-12-17  \n",
       "1        15  POLYGON ((127.009453 37.568775, 127.009445 37....  2015-12-17  \n",
       "2         8  POLYGON ((127.007565 37.565945, 127.004846 37....  2015-12-17  \n",
       "3        28  POLYGON ((127.009388 37.570565, 127.008984 37....  2015-12-17  \n",
       "4        20  POLYGON ((127.001795 37.57082, 127.000088 37.5...  2015-12-17  "
      ],
      "text/html": "<div>\n<style scoped>\n    .dataframe tbody tr th:only-of-type {\n        vertical-align: middle;\n    }\n\n    .dataframe tbody tr th {\n        vertical-align: top;\n    }\n\n    .dataframe thead th {\n        text-align: right;\n    }\n</style>\n<table border=\"1\" class=\"dataframe\">\n  <thead>\n    <tr style=\"text-align: right;\">\n      <th></th>\n      <th>trarNo</th>\n      <th>mainTrarNm</th>\n      <th>ctprvnCd</th>\n      <th>ctprvnNm</th>\n      <th>signguCd</th>\n      <th>signguNm</th>\n      <th>trarArea</th>\n      <th>coordNum</th>\n      <th>coords</th>\n      <th>stdrDt</th>\n    </tr>\n  </thead>\n  <tbody>\n    <tr>\n      <th>0</th>\n      <td>2214</td>\n      <td>을지로4가역</td>\n      <td>11</td>\n      <td>서울특별시</td>\n      <td>11140</td>\n      <td>중구</td>\n      <td>88434.9</td>\n      <td>8</td>\n      <td>POLYGON ((126.999081 37.566789, 127.002102 37....</td>\n      <td>2015-12-17</td>\n    </tr>\n    <tr>\n      <th>1</th>\n      <td>2216</td>\n      <td>동대문시장</td>\n      <td>11</td>\n      <td>서울특별시</td>\n      <td>11140</td>\n      <td>중구</td>\n      <td>68658.0</td>\n      <td>15</td>\n      <td>POLYGON ((127.009453 37.568775, 127.009445 37....</td>\n      <td>2015-12-17</td>\n    </tr>\n    <tr>\n      <th>2</th>\n      <td>2207</td>\n      <td>동대문역사문화공원역</td>\n      <td>11</td>\n      <td>서울특별시</td>\n      <td>11140</td>\n      <td>중구</td>\n      <td>81499.1</td>\n      <td>8</td>\n      <td>POLYGON ((127.007565 37.565945, 127.004846 37....</td>\n      <td>2015-12-17</td>\n    </tr>\n    <tr>\n      <th>3</th>\n      <td>2226</td>\n      <td>동대문시장</td>\n      <td>11</td>\n      <td>서울특별시</td>\n      <td>11110</td>\n      <td>종로구</td>\n      <td>82364.6</td>\n      <td>28</td>\n      <td>POLYGON ((127.009388 37.570565, 127.008984 37....</td>\n      <td>2015-12-17</td>\n    </tr>\n    <tr>\n      <th>4</th>\n      <td>2225</td>\n      <td>서울 종로구 종로5가역_1</td>\n      <td>11</td>\n      <td>서울특별시</td>\n      <td>11110</td>\n      <td>종로구</td>\n      <td>50246.7</td>\n      <td>20</td>\n      <td>POLYGON ((127.001795 37.57082, 127.000088 37.5...</td>\n      <td>2015-12-17</td>\n    </tr>\n  </tbody>\n</table>\n</div>"
     },
     "metadata": {},
     "execution_count": 4
    }
   ],
   "source": [
    "df = json_normalize(json_object['body']['items'])\n",
    "df"
   ]
  },
  {
   "cell_type": "code",
   "execution_count": 5,
   "metadata": {},
   "outputs": [
    {
     "output_type": "execute_result",
     "data": {
      "text/plain": [
       "5"
      ]
     },
     "metadata": {},
     "execution_count": 5
    }
   ],
   "source": [
    "len(df)"
   ]
  },
  {
   "cell_type": "code",
   "execution_count": 6,
   "metadata": {},
   "outputs": [
    {
     "output_type": "execute_result",
     "data": {
      "text/plain": [
       "Index(['trarNo', 'mainTrarNm', 'ctprvnCd', 'ctprvnNm', 'signguCd', 'signguNm',\n",
       "       'trarArea', 'coordNum', 'coords', 'stdrDt'],\n",
       "      dtype='object')"
      ]
     },
     "metadata": {},
     "execution_count": 6
    }
   ],
   "source": [
    "df.columns"
   ]
  },
  {
   "cell_type": "code",
   "execution_count": 7,
   "metadata": {},
   "outputs": [
    {
     "output_type": "execute_result",
     "data": {
      "text/plain": [
       "   trarNo mainTrarNm ctprvnNm signguNm  coordNum  \\\n",
       "0    2214     을지로4가역    서울특별시       중구         8   \n",
       "1    2216      동대문시장    서울특별시       중구        15   \n",
       "\n",
       "                                              coords      stdrDt  \n",
       "0  POLYGON ((126.999081 37.566789, 127.002102 37....  2015-12-17  \n",
       "1  POLYGON ((127.009453 37.568775, 127.009445 37....  2015-12-17  "
      ],
      "text/html": "<div>\n<style scoped>\n    .dataframe tbody tr th:only-of-type {\n        vertical-align: middle;\n    }\n\n    .dataframe tbody tr th {\n        vertical-align: top;\n    }\n\n    .dataframe thead th {\n        text-align: right;\n    }\n</style>\n<table border=\"1\" class=\"dataframe\">\n  <thead>\n    <tr style=\"text-align: right;\">\n      <th></th>\n      <th>trarNo</th>\n      <th>mainTrarNm</th>\n      <th>ctprvnNm</th>\n      <th>signguNm</th>\n      <th>coordNum</th>\n      <th>coords</th>\n      <th>stdrDt</th>\n    </tr>\n  </thead>\n  <tbody>\n    <tr>\n      <th>0</th>\n      <td>2214</td>\n      <td>을지로4가역</td>\n      <td>서울특별시</td>\n      <td>중구</td>\n      <td>8</td>\n      <td>POLYGON ((126.999081 37.566789, 127.002102 37....</td>\n      <td>2015-12-17</td>\n    </tr>\n    <tr>\n      <th>1</th>\n      <td>2216</td>\n      <td>동대문시장</td>\n      <td>서울특별시</td>\n      <td>중구</td>\n      <td>15</td>\n      <td>POLYGON ((127.009453 37.568775, 127.009445 37....</td>\n      <td>2015-12-17</td>\n    </tr>\n  </tbody>\n</table>\n</div>"
     },
     "metadata": {},
     "execution_count": 7
    }
   ],
   "source": [
    "df = df[['trarNo', 'mainTrarNm', 'ctprvnNm', 'signguNm', 'coordNum', 'coords', 'stdrDt']]\n",
    "df.head(2)"
   ]
  },
  {
   "cell_type": "code",
   "execution_count": 8,
   "metadata": {},
   "outputs": [
    {
     "output_type": "stream",
     "name": "stdout",
     "text": [
      "{'response': {'header': {'resultCode': '00', 'resultMsg': 'NORMAL_SERVICE'}, 'body': {'dataType': 'XML', 'items': {'item': {'courseAreaId': '4700000000', 'courseAreaName': '경상북도', 'courseId': '1', 'courseName': '남호고택에서의 하룻밤', 'pop': '20', 'rhm': '90', 'sky': '3', 'spotAreaId': '102', 'spotAreaName': '봉화', 'spotName': '(봉화)춘양목 송이마을', 'th3': '-2', 'thema': '문화/예술', 'tm': '2019-12-22 09:00', 'wd': '297', 'ws': '0'}}, 'numOfRows': '1', 'pageNo': '1', 'totalCount': '256'}}}\n관광지명 \" (봉화)춘양목 송이마을\n시간 : 2019-12-22 09:00\n기온 : -2\n하늘상태 : 구름많음\n강수확률 : 20\n"
     ]
    }
   ],
   "source": [
    "import urllib.request as ul\n",
    "import xmltodict\n",
    "import json\n",
    "import sys\n",
    "import io\n",
    "\n",
    "serviceKey = \"12mI7L%2FG%2Bl5w1Z1VvsmpBb7ttg7VR7OwYCPao%2BfM0Af3D4JsMJsEuID7DQeFO%2FeLy1AXCYdK%2BrPevDg9WgOX5g%3D%3D\"\n",
    "\n",
    "numOfRows = 1\n",
    "dataType = \"XML\"\n",
    "url = f\"http://apis.data.go.kr/1360000/TourStnInfoService/getTourStnVilageFcst?serviceKey={serviceKey}&pageNo=1&numOfRows={numOfRows}&dataType={dataType}&CURRENT_DATE=2019122010&HOUR=24&COURSE_ID=1\"\n",
    "\n",
    "request = ul.Request(url)\n",
    "\n",
    "response = ul.urlopen(request)\n",
    "\n",
    "rescode = response.getcode()\n",
    "if (rescode == 200):\n",
    "    responseData = response.read()\n",
    "    rD = xmltodict.parse(responseData)\n",
    "    rDJ = json.dumps(rD)\n",
    "    rDD = json.loads(rDJ)\n",
    "    print(rDD)\n",
    "\n",
    "    w_data = rDD[\"response\"][\"body\"][\"items\"][\"item\"]\n",
    "    print('관광지명 \" ' + w_data[\"spotName\"])\n",
    "    print('시간 : ' + w_data[\"tm\"])\n",
    "    print('기온 : ' + w_data[\"th3\"])\n",
    "    if (w_data[\"sky\"] == '1'):\n",
    "        print('하늘상태 : 맑음')\n",
    "    elif (w_data[\"sky\"] == '2'):\n",
    "        print('하늘상태 : 구름조금')\n",
    "    elif (w_data[\"sky\"] == '3'):\n",
    "        print('하늘상태 : 구름많음')\n",
    "    elif (w_data[\"sky\"] == '4'):\n",
    "        print('하늘상태 : 흐림')\n",
    "    elif (w_data[\"sky\"] == '5'):\n",
    "        print('하늘상태 : 비')\n",
    "    elif (w_data[\"sky\"] == '6' or w_data[\"sky\"] == '7'):\n",
    "        print('하늘상태 : 눈비')\n",
    "    elif (w_data[\"sky\"] == '8'):\n",
    "        print('하늘상태 : 눈')\n",
    "    else :\n",
    "        print('하늘상태 : ???')\n",
    "    print('강수확률 : ' + w_data[\"pop\"])\n",
    "elif (rescode == 300):\n",
    "    print(\"300 : 서비스 이용 등록중입니다.\")\n",
    "elif (rescode == 400):\n",
    "    print(\"400 : 서비스가 중단되었습니다. 나중에 이용 해주세요.\")\n",
    "else :\n",
    "    print(\"500 : 몰라보는 에러입니다.\")"
   ]
  },
  {
   "cell_type": "code",
   "execution_count": null,
   "metadata": {},
   "outputs": [],
   "source": []
  }
 ]
}