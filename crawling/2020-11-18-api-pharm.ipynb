{
 "metadata": {
  "language_info": {
   "codemirror_mode": {
    "name": "ipython",
    "version": 3
   },
   "file_extension": ".py",
   "mimetype": "text/x-python",
   "name": "python",
   "nbconvert_exporter": "python",
   "pygments_lexer": "ipython3",
   "version": "3.8.5-final"
  },
  "orig_nbformat": 2,
  "kernelspec": {
   "name": "python3",
   "display_name": "Python 3"
  }
 },
 "nbformat": 4,
 "nbformat_minor": 2,
 "cells": [
  {
   "cell_type": "code",
   "execution_count": 1,
   "metadata": {},
   "outputs": [
    {
     "output_type": "stream",
     "name": "stdout",
     "text": [
      "url : http://apis.data.go.kr/B552657/ErmctInsttInfoInqireService/getParmacyListInfoInqire?serviceKey=12mI7L%2FG%2Bl5w1Z1VvsmpBb7ttg7VR7OwYCPao%2BfM0Af3D4JsMJsEuID7DQeFO%2FeLy1AXCYdK%2BrPevDg9WgOX5g%3D%3D&Q0=%EB%B6%80%EC%82%B0%EA%B4%91%EC%97%AD%EC%8B%9C&Q1=%EB%B6%80%EC%82%B0%EC%A7%84%EA%B5%AC&QT=1&QN=%EA%B0%80%EA%B9%8C%EC%9A%B4%EC%95%BD%EA%B5%AD&QRD=NAME&pageNo=1&startPage=1&numOfRows=10&pageSize=10\n",
      "가까운약국\n"
     ]
    }
   ],
   "source": [
    "# urllib.parse 에 있는 quote함수만 사용\n",
    "from urllib.parse import quote\n",
    "import requests\n",
    "import bs4\n",
    "\n",
    "endpoint = \"http://apis.data.go.kr/B552657/ErmctInsttInfoInqireService/getParmacyListInfoInqire?\"\n",
    "serviceKey = \"12mI7L%2FG%2Bl5w1Z1VvsmpBb7ttg7VR7OwYCPao%2BfM0Af3D4JsMJsEuID7DQeFO%2FeLy1AXCYdK%2BrPevDg9WgOX5g%3D%3D\"\n",
    "Q0 = quote(\"부산광역시\")\n",
    "Q1 = quote(\"부산진구\")\n",
    "QT = \"1\"\n",
    "QN = quote(\"가까운약국\")\n",
    "QRD = \"NAME\"\n",
    "pageNo = \"1\"\n",
    "startPage = \"1\"\n",
    "numOfRows = \"10\"\n",
    "pageSize = \"10\"\n",
    "\n",
    "paramset = \"serviceKey=\" + serviceKey + \"&\" + \"Q0=\" + Q0 + \"&\" + \"Q1=\" + Q1 + \\\n",
    "    \"&\" + \"QT=\" + QT + \"&\" + \"QN=\" + QN + \"&\" + \"QRD=\" + QRD + \\\n",
    "    \"&\" + \"pageNo=\" + pageNo + \"&\" + \"startPage=\" + startPage + \"&\" + \\\n",
    "    \"numOfRows=\" + numOfRows + \"&\" + \"pageSize=\" + pageSize\n",
    "\n",
    "url = endpoint + paramset\n",
    "print(\"url : \" + url)\n",
    "result = requests.get(url)\n",
    "bs_obj = bs4.BeautifulSoup(result.content, \"html.parser\")\n",
    "items = bs_obj.findAll(\"item\")\n",
    "for item in items:\n",
    "    tagged_item = item.find(\"dutyname\")\n",
    "    print(tagged_item.text)"
   ]
  },
  {
   "cell_type": "code",
   "execution_count": 2,
   "metadata": {},
   "outputs": [
    {
     "output_type": "stream",
     "name": "stdout",
     "text": [
      "url : http://apis.data.go.kr/B552657/ErmctInsttInfoInqireService/getParmacyListInfoInqire?serviceKey=12mI7L%2FG%2Bl5w1Z1VvsmpBb7ttg7VR7OwYCPao%2BfM0Af3D4JsMJsEuID7DQeFO%2FeLy1AXCYdK%2BrPevDg9WgOX5g%3D%3D&Q0=%EB%B6%80%EC%82%B0%EA%B4%91%EC%97%AD%EC%8B%9C&QRD=NAME&pageNo=1&startPage=1&numOfRows=10&pageSize=10\n",
      "123약국\n",
      "153옵티마약국\n",
      "1층약국\n",
      "1호선범일약국\n",
      "21세기약국\n",
      "21세기우리네약국\n",
      "25시약국\n",
      "365판도라약국\n",
      "41번길약국\n",
      "7번약국\n"
     ]
    }
   ],
   "source": [
    "from urllib.parse import quote\n",
    "import requests\n",
    "import bs4\n",
    "\n",
    "endpoint = \"http://apis.data.go.kr/B552657/ErmctInsttInfoInqireService/getParmacyListInfoInqire?\"\n",
    "serviceKey = \"12mI7L%2FG%2Bl5w1Z1VvsmpBb7ttg7VR7OwYCPao%2BfM0Af3D4JsMJsEuID7DQeFO%2FeLy1AXCYdK%2BrPevDg9WgOX5g%3D%3D\"\n",
    "Q0 = quote(\"부산광역시\")\n",
    "QRD = \"NAME\"\n",
    "pageNo = \"1\"\n",
    "startPage = \"1\"\n",
    "numOfRows = \"10\"\n",
    "pageSize = \"10\"\n",
    "\n",
    "paramset = \"serviceKey=\" + serviceKey + \"&\" + \"Q0=\" + Q0 + \"&\" + \"QRD=\" + QRD + \\\n",
    "    \"&\" + \"pageNo=\" + pageNo + \"&\" + \"startPage=\" + startPage + \"&\" + \\\n",
    "    \"numOfRows=\" + numOfRows + \"&\" + \"pageSize=\" + pageSize\n",
    "\n",
    "url = endpoint + paramset\n",
    "print(\"url : \" + url)\n",
    "result = requests.get(url)\n",
    "bs_obj = bs4.BeautifulSoup(result.content, \"html.parser\")\n",
    "items = bs_obj.findAll(\"item\")\n",
    "for item in items:\n",
    "    tagged_item = item.find(\"dutyname\")\n",
    "    print(tagged_item.text)"
   ]
  },
  {
   "cell_type": "code",
   "execution_count": 3,
   "metadata": {},
   "outputs": [
    {
     "output_type": "stream",
     "name": "stdout",
     "text": [
      "월요일 9시 이후까지 하는 약국의 수 : 103\n"
     ]
    }
   ],
   "source": [
    "from urllib.parse import quote\n",
    "import requests\n",
    "import bs4\n",
    "\n",
    "endpoint = \"http://apis.data.go.kr/B552657/ErmctInsttInfoInqireService/getParmacyListInfoInqire?\"\n",
    "serviceKey = \"12mI7L%2FG%2Bl5w1Z1VvsmpBb7ttg7VR7OwYCPao%2BfM0Af3D4JsMJsEuID7DQeFO%2FeLy1AXCYdK%2BrPevDg9WgOX5g%3D%3D\"\n",
    "Q0 = quote(\"부산광역시\")\n",
    "QRD = \"NAME\"\n",
    "pageNo = \"1\"\n",
    "startPage = \"1\"\n",
    "numOfRows = \"5000\"\n",
    "\n",
    "paramset = \"serviceKey=\" + serviceKey + \"&\" + \"Q0=\" + Q0 + \"&\" + \"QRD=\" + QRD + \\\n",
    "    \"&\" + \"pageNo=\" + pageNo + \"&\" + \"startPage=\" + startPage + \"&\" + \\\n",
    "    \"numOfRows=\" + numOfRows\n",
    "\n",
    "url = endpoint + paramset\n",
    "result = requests.get(url)\n",
    "bs_obj = bs4.BeautifulSoup(result.content, \"html.parser\")\n",
    "items = bs_obj.findAll(\"item\")\n",
    "\n",
    "count = 0\n",
    "for item in items:\n",
    "    tagged_item = item.find(\"dutytime1c\")\n",
    "    if (tagged_item != None):\n",
    "        close_time = int(tagged_item.text)\n",
    "        if(close_time > 2100):\n",
    "            count += 1\n",
    "\n",
    "print(\"월요일 9시 이후까지 하는 약국의 수 : \" + str(count))"
   ]
  },
  {
   "cell_type": "code",
   "execution_count": null,
   "metadata": {},
   "outputs": [],
   "source": []
  }
 ]
}