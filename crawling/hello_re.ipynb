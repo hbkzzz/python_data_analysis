{
 "cells": [
  {
   "cell_type": "code",
   "execution_count": 1,
   "metadata": {},
   "outputs": [],
   "source": [
    "import re"
   ]
  },
  {
   "cell_type": "code",
   "execution_count": 2,
   "metadata": {},
   "outputs": [],
   "source": [
    "example = '이동민 교수님은 다음과 같이 설명했습니다(이동민, 2019). 그런데 다른 교수님은 이 문제에 대해서 다른 견해를 가지고 있었습니다(최재영, 2019). 또 다른 견해도 있었습니다(Lion, 2018)'"
   ]
  },
  {
   "cell_type": "code",
   "execution_count": 3,
   "metadata": {},
   "outputs": [],
   "source": [
    "result = re.findall(r'\\([A-Za-z가-힣]+, \\d+\\)', example)"
   ]
  },
  {
   "cell_type": "code",
   "execution_count": 4,
   "metadata": {},
   "outputs": [
    {
     "output_type": "execute_result",
     "data": {
      "text/plain": [
       "['(이동민, 2019)', '(최재영, 2019)', '(Lion, 2018)']"
      ]
     },
     "metadata": {},
     "execution_count": 4
    }
   ],
   "source": [
    "result"
   ]
  },
  {
   "cell_type": "code",
   "execution_count": 5,
   "metadata": {},
   "outputs": [
    {
     "output_type": "execute_result",
     "data": {
      "text/plain": [
       "<re.Match object; span=(0, 4), match='life'>"
      ]
     },
     "metadata": {},
     "execution_count": 5
    }
   ],
   "source": [
    "pattern = r'life'           # 패턴을 객체에 저장합니다. 패턴 앞에는 r을 붙여줍니다\n",
    "script = 'life'             # 패턴과 같은 스크립트를 다른 객체에 저장합니다\n",
    "re.match(pattern, script)   # script에서 pattern을 찾으세요"
   ]
  },
  {
   "cell_type": "code",
   "execution_count": 6,
   "metadata": {},
   "outputs": [
    {
     "output_type": "execute_result",
     "data": {
      "text/plain": [
       "'life'"
      ]
     },
     "metadata": {},
     "execution_count": 6
    }
   ],
   "source": [
    "re.match(pattern, script).group()   # group() 매서드를 사용해 매치된 내용을 반환합니다"
   ]
  },
  {
   "cell_type": "code",
   "execution_count": 7,
   "metadata": {},
   "outputs": [
    {
     "output_type": "execute_result",
     "data": {
      "text/plain": [
       "'life'"
      ]
     },
     "metadata": {},
     "execution_count": 7
    }
   ],
   "source": [
    "re.match(r'life', 'life').group()  # 문자열 'life'에서 'life'라는 패턴을 찾아서 반환"
   ]
  },
  {
   "cell_type": "code",
   "execution_count": 8,
   "metadata": {},
   "outputs": [
    {
     "output_type": "error",
     "ename": "AttributeError",
     "evalue": "'NoneType' object has no attribute 'group'",
     "traceback": [
      "\u001b[1;31m---------------------------------------------------------------------------\u001b[0m",
      "\u001b[1;31mAttributeError\u001b[0m                            Traceback (most recent call last)",
      "\u001b[1;32m<ipython-input-8-2d157f66b6a7>\u001b[0m in \u001b[0;36m<module>\u001b[1;34m\u001b[0m\n\u001b[1;32m----> 1\u001b[1;33m \u001b[0mre\u001b[0m\u001b[1;33m.\u001b[0m\u001b[0mmatch\u001b[0m\u001b[1;33m(\u001b[0m\u001b[1;34mr'life'\u001b[0m\u001b[1;33m,\u001b[0m \u001b[1;34m'animal'\u001b[0m\u001b[1;33m)\u001b[0m\u001b[1;33m.\u001b[0m\u001b[0mgroup\u001b[0m\u001b[1;33m(\u001b[0m\u001b[1;33m)\u001b[0m \u001b[1;31m# 매칭이 되지 않으면 에러 발생\u001b[0m\u001b[1;33m\u001b[0m\u001b[1;33m\u001b[0m\u001b[0m\n\u001b[0m",
      "\u001b[1;31mAttributeError\u001b[0m: 'NoneType' object has no attribute 'group'"
     ]
    }
   ],
   "source": [
    "re.match(r'life', 'animal').group() # 매칭이 되지 않으면 에러 발생"
   ]
  },
  {
   "cell_type": "code",
   "execution_count": 9,
   "metadata": {},
   "outputs": [],
   "source": [
    "def refinder(pattern, script):      # refinder 라는 함수를 정의\n",
    "    if re.match(pattern, script):   # 원고(script)에서 패턴을 찾을 수 있다면\n",
    "        print('Match!')             # 'Match!'를 출력\n",
    "    else :\n",
    "        print('Not a match!')       # 패턴을 찾지 못한다면 'Not a match!'를 출력"
   ]
  },
  {
   "cell_type": "code",
   "execution_count": 10,
   "metadata": {},
   "outputs": [
    {
     "output_type": "stream",
     "name": "stdout",
     "text": [
      "Match!\n"
     ]
    }
   ],
   "source": [
    "pattern = r'Life'           # 패턴으로 r'Life'를 입력\n",
    "script = 'Life is so cool'  # 패턴을 찾을 문자열을 입력\n",
    "refinder(pattern, script)   # 원고에서 패턴을 찾습니다"
   ]
  },
  {
   "cell_type": "code",
   "execution_count": 11,
   "metadata": {},
   "outputs": [
    {
     "output_type": "stream",
     "name": "stdout",
     "text": [
      "Not a match!\n"
     ]
    }
   ],
   "source": [
    "pattern = r'life'           # 패턴으로 r'life'를 입력\n",
    "script = 'Life is so cool'\n",
    "refinder(pattern, script)   # 대소문자를 구분하여 매칭 실패"
   ]
  },
  {
   "cell_type": "code",
   "execution_count": 12,
   "metadata": {},
   "outputs": [
    {
     "output_type": "error",
     "ename": "NameError",
     "evalue": "name 'rattern' is not defined",
     "traceback": [
      "\u001b[1;31m---------------------------------------------------------------------------\u001b[0m",
      "\u001b[1;31mNameError\u001b[0m                                 Traceback (most recent call last)",
      "\u001b[1;32m<ipython-input-12-083610cfeeb9>\u001b[0m in \u001b[0;36m<module>\u001b[1;34m\u001b[0m\n\u001b[1;32m----> 1\u001b[1;33m \u001b[0mre\u001b[0m\u001b[1;33m.\u001b[0m\u001b[0msearch\u001b[0m\u001b[1;33m(\u001b[0m\u001b[0mrattern\u001b[0m\u001b[1;33m,\u001b[0m \u001b[0mscript\u001b[0m\u001b[1;33m)\u001b[0m\u001b[1;33m.\u001b[0m\u001b[0mgroup\u001b[0m\u001b[1;33m(\u001b[0m\u001b[1;33m)\u001b[0m  \u001b[1;31m# script에서 패턴(r'is')을 찾아 반환\u001b[0m\u001b[1;33m\u001b[0m\u001b[1;33m\u001b[0m\u001b[0m\n\u001b[0m",
      "\u001b[1;31mNameError\u001b[0m: name 'rattern' is not defined"
     ]
    }
   ],
   "source": [
    "re.search(rattern, script).group()  # script에서 패턴(r'is')을 찾아 반환"
   ]
  },
  {
   "cell_type": "code",
   "execution_count": 13,
   "metadata": {},
   "outputs": [
    {
     "output_type": "execute_result",
     "data": {
      "text/plain": [
       "'cool'"
      ]
     },
     "metadata": {},
     "execution_count": 13
    }
   ],
   "source": [
    "re.search(r'Life', script).group()  # search는 원고에 있는 패턴을 찾아냅니다\n",
    "re.search(r'cool', script).group()  # search는 원고 중간에 있는 단어들도 찾아냅니다"
   ]
  },
  {
   "cell_type": "code",
   "execution_count": 14,
   "metadata": {},
   "outputs": [
    {
     "output_type": "error",
     "ename": "AttributeError",
     "evalue": "'NoneType' object has no attribute 'group'",
     "traceback": [
      "\u001b[1;31m---------------------------------------------------------------------------\u001b[0m",
      "\u001b[1;31mAttributeError\u001b[0m                            Traceback (most recent call last)",
      "\u001b[1;32m<ipython-input-14-dd822c3f4a8f>\u001b[0m in \u001b[0;36m<module>\u001b[1;34m\u001b[0m\n\u001b[1;32m----> 1\u001b[1;33m \u001b[0mre\u001b[0m\u001b[1;33m.\u001b[0m\u001b[0mmatch\u001b[0m\u001b[1;33m(\u001b[0m\u001b[1;34mr'cool'\u001b[0m\u001b[1;33m,\u001b[0m \u001b[0mscript\u001b[0m\u001b[1;33m)\u001b[0m\u001b[1;33m.\u001b[0m\u001b[0mgroup\u001b[0m\u001b[1;33m(\u001b[0m\u001b[1;33m)\u001b[0m   \u001b[1;31m# match는 원고 중간에 있는 단어를 찾지 못합니다\u001b[0m\u001b[1;33m\u001b[0m\u001b[1;33m\u001b[0m\u001b[0m\n\u001b[0m",
      "\u001b[1;31mAttributeError\u001b[0m: 'NoneType' object has no attribute 'group'"
     ]
    }
   ],
   "source": [
    "re.match(r'cool', script).group()   # match는 원고 중간에 있는 단어를 찾지 못합니다"
   ]
  },
  {
   "cell_type": "code",
   "execution_count": 15,
   "metadata": {},
   "outputs": [
    {
     "output_type": "execute_result",
     "data": {
      "text/plain": [
       "'Life'"
      ]
     },
     "metadata": {},
     "execution_count": 15
    }
   ],
   "source": [
    "re.match(r'Life', script).group()   # match는 원고에서 패턴을 찾아냅니다."
   ]
  },
  {
   "cell_type": "code",
   "execution_count": 16,
   "metadata": {},
   "outputs": [
    {
     "output_type": "execute_result",
     "data": {
      "text/plain": [
       "['511223', '521012']"
      ]
     },
     "metadata": {},
     "execution_count": 16
    }
   ],
   "source": [
    "number = 'My number is 511223-1****** and yours is 521012-2******'\n",
    "re.findall('\\d{6}', number) # '\\d{6}' 패턴은 숫자를 여섯 번 반복한 값을 의미"
   ]
  },
  {
   "cell_type": "code",
   "execution_count": 17,
   "metadata": {},
   "outputs": [],
   "source": [
    "example1 = '저는 92년에 태어났습니다. 97년에는 IMF가 있었습니다. 지금은 2020년입니다.'\n",
    "# example1 이라는 객체에 간단한 문장 입력"
   ]
  },
  {
   "cell_type": "code",
   "execution_count": 18,
   "metadata": {},
   "outputs": [
    {
     "output_type": "execute_result",
     "data": {
      "text/plain": [
       "['92년에 태어났습니다. 97년에는 IMF가 있었습니다. 지금은 2020년']"
      ]
     },
     "metadata": {},
     "execution_count": 18
    }
   ],
   "source": [
    "re.findall(r'\\d.+년', example1)\n",
    "# 숫자(\\d)로 시작하고, 어떤 문자든(.) 반복(+)되며, '년'으로 끝나는 문자열을 반환하라는 명령"
   ]
  },
  {
   "cell_type": "code",
   "execution_count": 19,
   "metadata": {},
   "outputs": [
    {
     "output_type": "execute_result",
     "data": {
      "text/plain": [
       "['92년', '97년', '2020년']"
      ]
     },
     "metadata": {},
     "execution_count": 19
    }
   ],
   "source": [
    "re.findall(r'\\d.+?년', example1)    # '년'이라는 글자를 찾으면 패턴 찾기를 멈춥니다"
   ]
  },
  {
   "cell_type": "code",
   "execution_count": 20,
   "metadata": {},
   "outputs": [
    {
     "output_type": "execute_result",
     "data": {
      "text/plain": [
       "['92년', '97년', '2020년']"
      ]
     },
     "metadata": {},
     "execution_count": 20
    }
   ],
   "source": [
    "re.findall(r'\\d+.년', example1)  # 숫자를 반복시킨 후 '년'으로 끝나는 문자를 찾아도 됩니다"
   ]
  },
  {
   "cell_type": "code",
   "execution_count": 21,
   "metadata": {},
   "outputs": [
    {
     "output_type": "execute_result",
     "data": {
      "text/plain": [
       "['(이동민, 2019). 그런데 다른 학자는 이문제에 대해서 다른 견해를 가지고 있었습니다(최재영, 2019). 또 다른 견해도 있었습니다(Lion, 2018)']"
      ]
     },
     "metadata": {},
     "execution_count": 21
    }
   ],
   "source": [
    "example = '이동민 교수는 다음과 같이 설명했습니다(이동민, 2019). 그런데 다른 학자는 이문제에 대해서 다른 견해를 가지고 있었습니다(최재영, 2019). 또 다른 견해도 있었습니다(Lion, 2018).'\n",
    "result = re.findall(r'\\(.+\\)', example) # 앞에 \\를 안 붙이면 문자로 인식이 되지 않음\n",
    "result"
   ]
  },
  {
   "cell_type": "code",
   "execution_count": 22,
   "metadata": {},
   "outputs": [
    {
     "output_type": "execute_result",
     "data": {
      "text/plain": [
       "['(이동민, 2019)', '(최재영, 2019)', '(Lion, 2018)']"
      ]
     },
     "metadata": {},
     "execution_count": 22
    }
   ],
   "source": [
    "result = re.findall(r'\\(.+?\\)', example) # 닫는 괄호앞에 ?를 넣으면\n",
    "result"
   ]
  },
  {
   "cell_type": "code",
   "execution_count": 23,
   "metadata": {},
   "outputs": [
    {
     "output_type": "execute_result",
     "data": {
      "text/plain": [
       "['I love a lovely dog, really',\n",
       " ' I am not telling a lie',\n",
       " ' What a pretty dog',\n",
       " ' I love this dog',\n",
       " '']"
      ]
     },
     "metadata": {},
     "execution_count": 23
    }
   ],
   "source": [
    "sentence = 'I love a lovely dog, really. I am not telling a lie. What a pretty dog! I love this dog.'\n",
    "re.split(r'[.?!]', sentence)"
   ]
  },
  {
   "cell_type": "code",
   "execution_count": 24,
   "metadata": {},
   "outputs": [
    {
     "output_type": "stream",
     "name": "stdout",
     "text": [
      "['a', '3']\n[' b', '4']\n[' c', '5']\n"
     ]
    }
   ],
   "source": [
    "data = 'a:3; b:4; c:5'\n",
    "for i in re.split(r';', data) :  # 세미콜론(;)으로 전체 데이터를 구분\n",
    "    print(re.split(r':', i))    # 나눠진 데이터를 다시 콜론(:)을 기준으로 나눔"
   ]
  },
  {
   "cell_type": "code",
   "execution_count": 25,
   "metadata": {},
   "outputs": [
    {
     "output_type": "execute_result",
     "data": {
      "text/plain": [
       "'I love a lovely cat, really. I am not telling a lie. What a pretty cat! I love this cat.'"
      ]
     },
     "metadata": {},
     "execution_count": 25
    }
   ],
   "source": [
    "re.sub(r'dog', 'cat', sentence) # sentence 라는 문자열에서 'dog'를 'cat'으로 바꿈"
   ]
  },
  {
   "cell_type": "code",
   "execution_count": 26,
   "metadata": {},
   "outputs": [
    {
     "output_type": "stream",
     "name": "stdout",
     "text": [
      "I am home now. \n\n\nI am with my cat.\n\n\n"
     ]
    }
   ],
   "source": [
    "words = 'I am home now. \\n\\n\\nI am with my cat.\\n\\n'    # '\\n'은 줄바꿈 문자\n",
    "print(words)"
   ]
  },
  {
   "cell_type": "code",
   "execution_count": 27,
   "metadata": {},
   "outputs": [
    {
     "output_type": "execute_result",
     "data": {
      "text/plain": [
       "'I am home now. I am with my cat.'"
      ]
     },
     "metadata": {},
     "execution_count": 27
    }
   ],
   "source": [
    "re.sub(r'\\n', '', words)"
   ]
  },
  {
   "cell_type": "code",
   "execution_count": null,
   "metadata": {},
   "outputs": [],
   "source": []
  }
 ],
 "metadata": {
  "kernelspec": {
   "display_name": "Python 3",
   "language": "python",
   "name": "python3"
  },
  "language_info": {
   "codemirror_mode": {
    "name": "ipython",
    "version": 3
   },
   "file_extension": ".py",
   "mimetype": "text/x-python",
   "name": "python",
   "nbconvert_exporter": "python",
   "pygments_lexer": "ipython3",
   "version": "3.8.3-final"
  }
 },
 "nbformat": 4,
 "nbformat_minor": 2
}