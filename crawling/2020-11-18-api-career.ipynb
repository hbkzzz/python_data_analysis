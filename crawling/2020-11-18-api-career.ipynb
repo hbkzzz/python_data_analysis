{
 "metadata": {
  "language_info": {
   "codemirror_mode": {
    "name": "ipython",
    "version": 3
   },
   "file_extension": ".py",
   "mimetype": "text/x-python",
   "name": "python",
   "nbconvert_exporter": "python",
   "pygments_lexer": "ipython3",
   "version": "3.8.3-final"
  },
  "orig_nbformat": 2,
  "kernelspec": {
   "name": "python3",
   "display_name": "Python 3"
  }
 },
 "nbformat": 4,
 "nbformat_minor": 2,
 "cells": [
  {
   "cell_type": "code",
   "execution_count": 1,
   "metadata": {},
   "outputs": [
    {
     "output_type": "stream",
     "name": "stdout",
     "text": [
      "http://www.career.go.kr/cnet/openapi/getOpenApi?apiKey=b51c4540ebd8a2159ba1ad0609aed569&svcType=api&svcCode=JOB&contentType=json&gubun=job_dic_list&perPage=10000\n",
      "<class 'dict'>\n",
      "<class 'dict'>\n",
      "<class 'list'>\n",
      "454\n"
     ]
    }
   ],
   "source": [
    "import requests\n",
    "\n",
    "endpoint = \"http://www.career.go.kr/cnet/openapi/getOpenApi?\"\n",
    "apiKey = \"b51c4540ebd8a2159ba1ad0609aed569\"\n",
    "svcType = \"api\"\n",
    "svcCode = \"JOB\"\n",
    "contentType = \"json\"\n",
    "gubun = \"job_dic_list\"\n",
    "perPage = \"10000\"\n",
    "\n",
    "paramset = \"apiKey=\" + apiKey + \"&\" + \"svcType=\" + svcType + \"&\" + \"svcCode=\" + svcCode + \\\n",
    "    \"&\" + \"contentType=\" + contentType + \"&\" + \"gubun=\" + gubun + \"&\" + \"perPage=\" + perPage\n",
    "\n",
    "url = endpoint + paramset\n",
    "print(url)\n",
    "result = requests.get(url)\n",
    "career_data = result.json()\n",
    "print(type(career_data))\n",
    "print(type(career_data['dataSearch']))\n",
    "print(type(career_data['dataSearch']['content']))\n",
    "print(len(career_data['dataSearch']['content']))"
   ]
  },
  {
   "cell_type": "code",
   "execution_count": 2,
   "metadata": {},
   "outputs": [
    {
     "output_type": "stream",
     "name": "stdout",
     "text": [
      "연봉이 4000만원 이상인 직업의 수 : 155\n"
     ]
    }
   ],
   "source": [
    "# 연봉이 4000만원 이상인 직업 찾기\n",
    "url = endpoint + paramset\n",
    "result = requests.get(url)\n",
    "career_data = result.json()\n",
    "career_list = career_data['dataSearch']['content']\n",
    "\n",
    "salary_4000_count = 0\n",
    "for career in career_list:\n",
    "    if (career['salery'] != 'null'):\n",
    "        if (int(career['salery'].split(' ')[0]) == 4000):\n",
    "            salary_4000_count += 1\n",
    "\n",
    "print(\"연봉이 4000만원 이상인 직업의 수 : \" + str(salary_4000_count))"
   ]
  },
  {
   "cell_type": "code",
   "execution_count": 3,
   "metadata": {},
   "outputs": [
    {
     "output_type": "stream",
     "name": "stdout",
     "text": [
      "연봉이 4000만원 이상인 직업의 수 : 155\n직업 분류 수 : 26\n{'100042': 10, '105099': 7, '105110': 5, '105102': 5, '105098': 10, '105096': 7, '105103': 2, '100041': 5, '105100': 28, '100043': 12, '105097': 17, '100050': 3, '100049': 8, '105113': 2, '100048': 8, '105114': 1, '105115': 1, '100046': 6, '105112': 1, '100063': 2, '105104': 3, '105101': 5, '105111': 4, '100064': 1, '105117': 1, '100047': 1}\n연봉이 4000만원 이상인 직업 중 가장 많은 직업 코드 : 105100\n"
     ]
    }
   ],
   "source": [
    "url = endpoint + paramset\n",
    "result = requests.get(url)\n",
    "career_data = result.json()\n",
    "career_list = career_data['dataSearch']['content']\n",
    "\n",
    "salary_4000_count = 0\n",
    "salary_4000_profession = {}\n",
    "for career in career_list:\n",
    "    if (career['salery'] != 'null'):\n",
    "        if (int(career['salery'].split(' ')[0]) == 4000):\n",
    "            salary_4000_count += 1\n",
    "            key_tmp = career['job_ctg_code']\n",
    "            if (key_tmp in salary_4000_profession):\n",
    "                salary_4000_profession[key_tmp] += 1\n",
    "            else:\n",
    "                salary_4000_profession[key_tmp] = 1\n",
    "\n",
    "print(\"연봉이 4000만원 이상인 직업의 수 : \" + str(salary_4000_count))\n",
    "print(\"직업 분류 수 : \" + str(len(salary_4000_profession)))\n",
    "print(salary_4000_profession)\n",
    "\n",
    "max = 0\n",
    "majority = ''\n",
    "for prof in salary_4000_profession:\n",
    "    tmp = salary_4000_profession[prof]\n",
    "    if(max < tmp):\n",
    "        max = tmp\n",
    "        majority = prof\n",
    "\n",
    "print(\"연봉이 4000만원 이상인 직업 중 가장 많은 직업 코드 : \" + str(majority)) \n"
   ]
  },
  {
   "cell_type": "code",
   "execution_count": null,
   "metadata": {},
   "outputs": [],
   "source": []
  }
 ]
}