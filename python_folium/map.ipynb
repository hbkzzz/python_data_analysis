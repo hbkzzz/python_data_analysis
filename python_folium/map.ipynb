{
 "metadata": {
  "language_info": {
   "codemirror_mode": {
    "name": "ipython",
    "version": 3
   },
   "file_extension": ".py",
   "mimetype": "text/x-python",
   "name": "python",
   "nbconvert_exporter": "python",
   "pygments_lexer": "ipython3",
   "version": "3.8.3-final"
  },
  "orig_nbformat": 2,
  "kernelspec": {
   "name": "python3",
   "display_name": "Python 3"
  }
 },
 "nbformat": 4,
 "nbformat_minor": 2,
 "cells": [
  {
   "cell_type": "code",
   "execution_count": 1,
   "metadata": {},
   "outputs": [],
   "source": [
    "# 초기 객체 생성 .Map() 메소드에 좌표값 입력\n",
    "import folium\n",
    "\n",
    "map_osm = folium.Map(location=[37.566345, 126.977893])\n",
    "map_osm.save('./map1.html')"
   ]
  },
  {
   "cell_type": "code",
   "execution_count": 2,
   "metadata": {},
   "outputs": [],
   "source": [
    "# 초기 화면 크기 지정 zoom_start 속성 입력\n",
    "map_osm = folium.Map(location=[37.566345, 126.977893], zoom_start=17)\n",
    "map_osm.save('./map2.html')"
   ]
  },
  {
   "cell_type": "code",
   "execution_count": 3,
   "metadata": {},
   "outputs": [],
   "source": [
    "# 지도 형식 기본 'Open Street Map'\n",
    "# ['Stamen Terrain', 'Stamen Toner', 'Mapbox Bright', 'Mapbox Control room tiles']\n",
    "map_osm = folium.Map(location=[37.566345, 126.977893], zoom_start=17, tiles='Stamen Terrain')\n",
    "map_osm.save('./map3.html')"
   ]
  },
  {
   "cell_type": "code",
   "execution_count": 4,
   "metadata": {},
   "outputs": [],
   "source": [
    "map_osm = folium.Map(location=[37.566345, 126.977893], zoom_start=17, tiles='Stamen Toner')\n",
    "map_osm.save('./map4.html')"
   ]
  },
  {
   "cell_type": "code",
   "execution_count": 5,
   "metadata": {},
   "outputs": [],
   "source": [
    "# Marker, Popup 설정\n",
    "map_osm = folium.Map(location=[37.566345, 126.977893], zoom_start=17)\n",
    "folium.Marker([37.566345, 126.977893], popup='서울특별시청').add_to(map_osm)\n",
    "folium.Marker([37.5658859, 126.9754788], popup='덕수궁').add_to(map_osm)\n",
    "map_osm.save('./map5.html')"
   ]
  },
  {
   "cell_type": "code",
   "execution_count": 6,
   "metadata": {},
   "outputs": [],
   "source": [
    "# Bootstrap을 이용하여 아이콘 타입 설정\n",
    "map_osm = folium.Map(location=[37.566345, 126.977893], zoom_start=17)\n",
    "folium.Marker([37.566345, 126.977893], popup='서울특별시청', icon=folium.Icon(color='red', icon='info-sign')).add_to(map_osm)\n",
    "folium.CircleMarker([37.5658859, 126.9754788], radius=100, color='#3186cc', fill_color='#3186cc', popup='덕수궁').add_to(map_osm)\n",
    "map_osm.save('./map6.html')"
   ]
  },
  {
   "cell_type": "code",
   "execution_count": 8,
   "metadata": {},
   "outputs": [],
   "source": [
    "# JSON 활용\n",
    "import folium\n",
    "import json\n",
    "\n",
    "map_osm = folium.Map(location=[37.566345, 126.977893])\n",
    "rfile = open('../data/json/skorea_provinces_geo_simple.json', 'r', encoding='utf-8').read()\n",
    "jsonData = json.loads(rfile)\n",
    "folium.GeoJson(jsonData, name='json_data').add_to(map_osm)\n",
    "map_osm.save('./map7.html')"
   ]
  },
  {
   "cell_type": "code",
   "execution_count": null,
   "metadata": {},
   "outputs": [],
   "source": []
  }
 ]
}