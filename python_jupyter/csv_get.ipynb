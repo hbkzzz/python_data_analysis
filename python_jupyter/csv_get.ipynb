{
 "metadata": {
  "language_info": {
   "codemirror_mode": {
    "name": "ipython",
    "version": 3
   },
   "file_extension": ".py",
   "mimetype": "text/x-python",
   "name": "python",
   "nbconvert_exporter": "python",
   "pygments_lexer": "ipython3",
   "version": "3.8.5-final"
  },
  "orig_nbformat": 2,
  "kernelspec": {
   "name": "Python 3.8.5 64-bit",
   "display_name": "Python 3.8.5 64-bit",
   "metadata": {
    "interpreter": {
     "hash": "f5ac3192f2ad1b1b1aae90b5788894bfaddba967d2521bef4c55b14d3e252875"
    }
   }
  }
 },
 "nbformat": 4,
 "nbformat_minor": 2,
 "cells": [
  {
   "cell_type": "code",
   "execution_count": 1,
   "metadata": {},
   "outputs": [
    {
     "output_type": "stream",
     "name": "stdout",
     "text": [
      "['지점', '일시', '평균기온(°C)', '최저기온(°C)', '최고기온(°C)']\n['119', '2019-10-01', '22', '15.7', '27.4']\n['119', '2019-10-02', '21.9', '20.4', '23.8']\n['119', '2019-10-03', '22.8', '19.9', '27.8']\n['119', '2019-10-04', '21.9', '17.8', '26.9']\n['119', '2019-10-05', '18.9', '15.7', '22']\n['119', '2019-10-06', '18', '14', '22']\n['119', '2019-10-07', '14.8', '13.4', '17.9']\n['119', '2019-10-08', '15', '10.7', '20.6']\n['119', '2019-10-09', '12.8', '6.4', '19.6']\n['119', '2019-10-10', '14.9', '9.5', '20.2']\n['119', '2019-10-11', '18.8', '12.1', '24.8']\n['119', '2019-10-12', '18.3', '14.1', '23.3']\n['119', '2019-10-13', '16.9', '12.5', '22.9']\n['119', '2019-10-14', '14', '8.5', '19.4']\n['119', '2019-10-15', '13.3', '7.3', '19.6']\n['119', '2019-10-16', '13.9', '7.9', '20']\n['119', '2019-10-17', '14.6', '9.1', '20.6']\n['119', '2019-10-18', '16.7', '10', '21.9']\n['119', '2019-10-19', '16', '10.4', '22.2']\n['119', '2019-10-20', '15.1', '10.8', '21.7']\n['119', '2019-10-21', '16.1', '9.5', '23.9']\n['119', '2019-10-22', '16.6', '11.1', '23']\n['119', '2019-10-23', '17', '12.4', '20']\n['119', '2019-10-24', '18.6', '14.1', '23.3']\n['119', '2019-10-25', '16.6', '10.7', '21.7']\n['119', '2019-10-26', '9.8', '6.4', '13.9']\n['119', '2019-10-27', '10.2', '3', '16.8']\n['119', '2019-10-28', '12.4', '6.3', '17.4']\n['119', '2019-10-29', '12.6', '8.2', '18.1']\n['119', '2019-10-30', '10.3', '3.3', '17.1']\n['119', '2019-10-31', '14.1', '7.3', '20.4']\n"
     ]
    }
   ],
   "source": [
    "import csv\n",
    "\n",
    "f = open('../data/csv/month_temp.csv', 'r', encoding='utf-8')\n",
    "lines = csv.reader(f)\n",
    "\n",
    "for line in lines :\n",
    "    print(line)\n",
    "\n",
    "f.close()"
   ]
  },
  {
   "cell_type": "code",
   "execution_count": 2,
   "metadata": {},
   "outputs": [
    {
     "output_type": "stream",
     "name": "stdout",
     "text": [
      "지점\n일시\n평균기온(°C)\n최저기온(°C)\n최고기온(°C)\n119\n2019-10-01\n22\n15.7\n27.4\n119\n2019-10-02\n21.9\n20.4\n23.8\n119\n2019-10-03\n22.8\n19.9\n27.8\n119\n2019-10-04\n21.9\n17.8\n26.9\n119\n2019-10-05\n18.9\n15.7\n22\n119\n2019-10-06\n18\n14\n22\n119\n2019-10-07\n14.8\n13.4\n17.9\n119\n2019-10-08\n15\n10.7\n20.6\n119\n2019-10-09\n12.8\n6.4\n19.6\n119\n2019-10-10\n14.9\n9.5\n20.2\n119\n2019-10-11\n18.8\n12.1\n24.8\n119\n2019-10-12\n18.3\n14.1\n23.3\n119\n2019-10-13\n16.9\n12.5\n22.9\n119\n2019-10-14\n14\n8.5\n19.4\n119\n2019-10-15\n13.3\n7.3\n19.6\n119\n2019-10-16\n13.9\n7.9\n20\n119\n2019-10-17\n14.6\n9.1\n20.6\n119\n2019-10-18\n16.7\n10\n21.9\n119\n2019-10-19\n16\n10.4\n22.2\n119\n2019-10-20\n15.1\n10.8\n21.7\n119\n2019-10-21\n16.1\n9.5\n23.9\n119\n2019-10-22\n16.6\n11.1\n23\n119\n2019-10-23\n17\n12.4\n20\n119\n2019-10-24\n18.6\n14.1\n23.3\n119\n2019-10-25\n16.6\n10.7\n21.7\n119\n2019-10-26\n9.8\n6.4\n13.9\n119\n2019-10-27\n10.2\n3\n16.8\n119\n2019-10-28\n12.4\n6.3\n17.4\n119\n2019-10-29\n12.6\n8.2\n18.1\n119\n2019-10-30\n10.3\n3.3\n17.1\n119\n2019-10-31\n14.1\n7.3\n20.4\n"
     ]
    }
   ],
   "source": [
    "import csv\n",
    "\n",
    "f = open('../data/csv/month_temp.csv', 'r', encoding='utf-8')\n",
    "lines = csv.reader(f)\n",
    "\n",
    "for line in lines :\n",
    "    for x in range(len(line)) :\n",
    "        print(line[x])\n",
    "\n",
    "f.close()"
   ]
  },
  {
   "cell_type": "code",
   "execution_count": 3,
   "metadata": {},
   "outputs": [
    {
     "output_type": "stream",
     "name": "stdout",
     "text": [
      "['119', '2019-10-20', '15.1', '10.8', '21.7']\n"
     ]
    }
   ],
   "source": [
    "import csv\n",
    "\n",
    "f = open('../data/csv/month_temp.csv', 'r', encoding='utf-8')\n",
    "lines = csv.reader(f)\n",
    "\n",
    "for line in lines :\n",
    "    if '2019-10-20' in line :\n",
    "        print(line)\n",
    "\n",
    "f.close()"
   ]
  },
  {
   "cell_type": "code",
   "execution_count": 4,
   "metadata": {},
   "outputs": [
    {
     "output_type": "stream",
     "name": "stdout",
     "text": [
      "['지점', '일시', '평균기온(°C)', '최저기온(°C)', '최고기온(°C)']\n['119', '2019-10-01', '22', '15.7', '27.4']\n"
     ]
    }
   ],
   "source": [
    "import csv\n",
    "\n",
    "f = open('../data/csv/month_temp.csv', 'r', encoding='utf-8')\n",
    "lines = csv.reader(f)\n",
    "header = next(lines)\n",
    "body = next(lines)\n",
    "\n",
    "print(header)\n",
    "print(body)\n",
    "\n",
    "f.close()"
   ]
  },
  {
   "cell_type": "code",
   "execution_count": 4,
   "metadata": {},
   "outputs": [
    {
     "output_type": "stream",
     "name": "stdout",
     "text": [
      "일자 최저기온 최고기온 일교차\n2019-10-01 15.7 27.4 11.7\n2019-10-02 20.4 23.8 3.4\n2019-10-03 19.9 27.8 7.9\n2019-10-04 17.8 26.9 9.1\n2019-10-05 15.7 22.0 6.3\n2019-10-06 14.0 22.0 8.0\n2019-10-07 13.4 17.9 4.5\n2019-10-08 10.7 20.6 9.9\n2019-10-09 6.4 19.6 13.2\n2019-10-10 9.5 20.2 10.7\n2019-10-11 12.1 24.8 12.7\n2019-10-12 14.1 23.3 9.2\n2019-10-13 12.5 22.9 10.4\n2019-10-14 8.5 19.4 10.9\n2019-10-15 7.3 19.6 12.3\n2019-10-16 7.9 20.0 12.1\n2019-10-17 9.1 20.6 11.5\n2019-10-18 10.0 21.9 11.9\n2019-10-19 10.4 22.2 11.8\n2019-10-20 10.8 21.7 10.9\n2019-10-21 9.5 23.9 14.4\n2019-10-22 11.1 23.0 11.9\n2019-10-23 12.4 20.0 7.6\n2019-10-24 14.1 23.3 9.2\n2019-10-25 10.7 21.7 11.0\n2019-10-26 6.4 13.9 7.5\n2019-10-27 3.0 16.8 13.8\n2019-10-28 6.3 17.4 11.1\n2019-10-29 8.2 18.1 9.9\n2019-10-30 3.3 17.1 13.8\n2019-10-31 7.3 20.4 13.1\n"
     ]
    }
   ],
   "source": [
    "import csv\n",
    "\n",
    "f = open('../data/csv/month_temp.csv', 'r', encoding='utf-8')\n",
    "lines = csv.reader(f)\n",
    "print('%s %s %s %s' % ('일자', '최저기온','최고기온','일교차'))\n",
    "next(lines)\n",
    "\n",
    "for line in lines :\n",
    "    diff = float(line[4]) - float(line[3])\n",
    "    print('%s %.1f %.1f %.1f' % (line[1], float(line[3]), float(line[4]), diff))\n",
    "\n",
    "f.close()"
   ]
  },
  {
   "cell_type": "code",
   "execution_count": 5,
   "metadata": {},
   "outputs": [
    {
     "output_type": "stream",
     "name": "stdout",
     "text": [
      "파일 쓰기 완료!\n"
     ]
    }
   ],
   "source": [
    "import csv\n",
    "\n",
    "file1 = open('../data/csv/month_temp.csv', 'r', encoding='utf-8')\n",
    "file2 = open('../data/csv/month_temp2.csv', 'w', encoding='utf-8', newline='')\n",
    "lines = csv.reader(file1)\n",
    "wr = csv.writer(file2)\n",
    "wr.writerow(['일자', '최저기온', '최고기온', '일교차'])\n",
    "next(lines)\n",
    "\n",
    "for line in lines :\n",
    "    diff = float(line[4]) - float(line[3])\n",
    "    diff = format(diff, '.1f')\n",
    "    wr.writerow([line[1], float(line[3]), float(line[4]), diff])\n",
    "\n",
    "print('파일 쓰기 완료!')\n",
    "file1.close()\n",
    "file2.close()"
   ]
  },
  {
   "cell_type": "code",
   "execution_count": 6,
   "metadata": {},
   "outputs": [
    {
     "output_type": "stream",
     "name": "stdout",
     "text": [
      "은하약국/부산/부산광역시 사하구 낙동대로 216 1층 (괴정동)\n은하약국/부산/부산광역시 동래구 명안로85번길 48 (명장동)\n"
     ]
    }
   ],
   "source": [
    "import csv\n",
    "\n",
    "f = open('../data/csv/pharm.csv', 'r', encoding='utf-8')\n",
    "lines = csv.reader(f)\n",
    "\n",
    "header = next(lines)\n",
    "\n",
    "for line in lines :\n",
    "    if line[1] == '은하약국' and line[5] == '부산' :\n",
    "        print(line[1], line[5], line[10], sep='/')\n",
    "\n",
    "f.close()"
   ]
  },
  {
   "cell_type": "code",
   "execution_count": null,
   "metadata": {},
   "outputs": [],
   "source": []
  }
 ]
}