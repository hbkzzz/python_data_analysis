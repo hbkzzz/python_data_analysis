{
 "cells": [
  {
   "cell_type": "code",
   "execution_count": 1,
   "metadata": {},
   "outputs": [
    {
     "output_type": "execute_result",
     "data": {
      "text/plain": [
       "2"
      ]
     },
     "metadata": {},
     "execution_count": 1
    }
   ],
   "source": [
    "1 + 1"
   ]
  },
  {
   "cell_type": "code",
   "execution_count": 2,
   "metadata": {},
   "outputs": [
    {
     "output_type": "stream",
     "name": "stdout",
     "text": [
      "hello\n"
     ]
    }
   ],
   "source": [
    "print('hello')"
   ]
  },
  {
   "source": [
    "msg = 'my name is jupyter.'\n",
    "print(msg)"
   ],
   "cell_type": "code",
   "metadata": {},
   "execution_count": 3,
   "outputs": [
    {
     "output_type": "stream",
     "name": "stdout",
     "text": [
      "my name is jupyter.\n"
     ]
    }
   ]
  },
  {
   "source": [
    "price_tag = \"Everybody look to their left\\nEverybody look to their right\\nCan you feel that? Yeah\\nWe're paying with love tonight\"\n",
    "print(price_tag)"
   ],
   "cell_type": "code",
   "metadata": {},
   "execution_count": 4,
   "outputs": [
    {
     "output_type": "stream",
     "name": "stdout",
     "text": [
      "Everybody look to their left\nEverybody look to their right\nCan you feel that? Yeah\nWe're paying with love tonight\n"
     ]
    }
   ]
  },
  {
   "source": [
    "# Markdown 예제\n",
    "\n",
    "# 큰 글씨\n",
    "## 중간 쓸씨\n",
    "### 작은 글씨\n",
    "#### 작고 얇은 글씨\n",
    "##### 작고 기울인  글씨\n",
    "###### 6개 까지 가능\n",
    "\n",
    "#### 순서 없는 목록\n",
    "\n",
    "* 탭을 입력하고 *, -을 사용하면 들여쓰기가 적용됨니다.\n",
    "* 손쉽게 사용할 수 있는 번호 없는 목록이 만들어 집니다.\n",
    "    * 목록1\n",
    "    * 목록2\n",
    "    * 목록3\n",
    "\n",
    "#### 순서 있는 목록\n",
    "\n",
    "1. 목록1\n",
    "1. 목록2\n",
    "1. 목록3"
   ],
   "cell_type": "markdown",
   "metadata": {}
  },
  {
   "source": [
    "*기울인 글씨*\n",
    "\n",
    "**굵은 글씨**\n",
    "\n",
    "***굵게 기울인 글씨***"
   ],
   "cell_type": "markdown",
   "metadata": {}
  },
  {
   "source": [
    "<div align=\"center\">center</div> <img src=\"https://jupyter.org/assets/nav_logo.svg\">"
   ],
   "cell_type": "markdown",
   "metadata": {}
  },
  {
   "cell_type": "code",
   "execution_count": null,
   "metadata": {},
   "outputs": [],
   "source": []
  }
 ],
 "metadata": {
  "kernelspec": {
   "display_name": "Python 3",
   "language": "python",
   "name": "python3"
  },
  "language_info": {
   "codemirror_mode": {
    "name": "ipython",
    "version": 3
   },
   "file_extension": ".py",
   "mimetype": "text/x-python",
   "name": "python",
   "nbconvert_exporter": "python",
   "pygments_lexer": "ipython3",
   "version": "3.8.5-final"
  }
 },
 "nbformat": 4,
 "nbformat_minor": 4
}