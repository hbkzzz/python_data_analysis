{
 "metadata": {
  "language_info": {
   "codemirror_mode": {
    "name": "ipython",
    "version": 3
   },
   "file_extension": ".py",
   "mimetype": "text/x-python",
   "name": "python",
   "nbconvert_exporter": "python",
   "pygments_lexer": "ipython3",
   "version": "3.8.3-final"
  },
  "orig_nbformat": 2,
  "kernelspec": {
   "name": "python3",
   "display_name": "Python 3"
  }
 },
 "nbformat": 4,
 "nbformat_minor": 2,
 "cells": [
  {
   "cell_type": "code",
   "execution_count": 1,
   "metadata": {},
   "outputs": [
    {
     "output_type": "stream",
     "name": "stdout",
     "text": [
      "1.0.5\n"
     ]
    }
   ],
   "source": [
    "import pandas as pd\n",
    "V = pd.__version__\n",
    "print(V)"
   ]
  },
  {
   "cell_type": "code",
   "execution_count": 2,
   "metadata": {},
   "outputs": [
    {
     "output_type": "stream",
     "name": "stdout",
     "text": [
      "0     5\n1    -4\n2     7\n3     0\n4    12\ndtype: int64\n<class 'pandas.core.series.Series'>\n"
     ]
    }
   ],
   "source": [
    "obj = pd.Series([5, -4, 7, 0, 12])\n",
    "print(obj)\n",
    "print(type(obj))"
   ]
  },
  {
   "cell_type": "code",
   "execution_count": 3,
   "metadata": {},
   "outputs": [
    {
     "output_type": "stream",
     "name": "stdout",
     "text": [
      "[  8 -20  -3  13   2]\nRangeIndex(start=0, stop=5, step=1)\n-3\n"
     ]
    }
   ],
   "source": [
    "obj = pd.Series([8, -20, -3, 13, 2])\n",
    "\n",
    "print(obj.values)\n",
    "print(obj.index)\n",
    "\n",
    "print(obj[2])"
   ]
  },
  {
   "cell_type": "code",
   "execution_count": 4,
   "metadata": {},
   "outputs": [
    {
     "output_type": "stream",
     "name": "stdout",
     "text": [
      "a    10\nb    20\nc    30\nd    40\ne    50\ndtype: int64\n30\nd    40\na    10\ndtype: int64\nb    20\nc    30\nd    40\ndtype: int64\n"
     ]
    }
   ],
   "source": [
    "obj = pd.Series([10, 20, 30, 40, 50], index=['a', 'b', 'c', 'd', 'e'])\n",
    "print(obj)\n",
    "\n",
    "print(obj['c'])\n",
    "print(obj[['d', 'a']])\n",
    "print(obj[1:4])"
   ]
  },
  {
   "cell_type": "code",
   "execution_count": 5,
   "metadata": {},
   "outputs": [
    {
     "output_type": "stream",
     "name": "stdout",
     "text": [
      "서울 : 9765623명\n부산 : 3441453명\n대구 : 2461769명\n"
     ]
    }
   ],
   "source": [
    "pop = pd.Series([9765623, 3441453, 2461769], index=['서울', '부산', '대구'])\n",
    "\n",
    "for i, v in pop.items() :\n",
    "    print(f'{i} : {v}명')"
   ]
  },
  {
   "cell_type": "code",
   "execution_count": 6,
   "metadata": {},
   "outputs": [
    {
     "output_type": "stream",
     "name": "stdout",
     "text": [
      "서울    9765623.0\n부산    3441453.0\n대구    2461769.0\n광주          NaN\n대전          NaN\ndtype: float64\n광주시 인구 : 149336명\n"
     ]
    }
   ],
   "source": [
    "pop = pd.Series({'서울':9765623, '부산':3441453, '대구':2461769}, index=['서울', '부산', '대구', '광주', '대전'])\n",
    "print(pop)\n",
    "\n",
    "pop['광주'] = 149336\n",
    "\n",
    "print('광주시 인구 : %.0f명' % pop['광주'])"
   ]
  },
  {
   "cell_type": "code",
   "execution_count": 7,
   "metadata": {},
   "outputs": [
    {
     "output_type": "stream",
     "name": "stdout",
     "text": [
      "    이름          아이디  비밀번호\n0  홍길동       jdhong  1234\n1  유관순        ksyou  1234\n2  이순신  immortallee  1234\n3  안철수    antimaker  1234\n"
     ]
    }
   ],
   "source": [
    "data = {\n",
    "    '이름':['홍길동', '유관순', '이순신', '안철수'],\n",
    "    '아이디':['jdhong','ksyou', 'immortallee', 'antimaker'],\n",
    "    '비밀번호':['1234', '1234', '1234', '1234']\n",
    "}\n",
    "\n",
    "frame = pd.DataFrame(data)\n",
    "print(frame)"
   ]
  },
  {
   "cell_type": "code",
   "execution_count": 8,
   "metadata": {},
   "outputs": [
    {
     "output_type": "stream",
     "name": "stdout",
     "text": [
      "     이름           전화번호  나이   주소\n01  김두한  010-1234-1234  20  NaN\n02  구마적  010-1577-1577  23  NaN\n"
     ]
    }
   ],
   "source": [
    "member = {\n",
    "    '이름':['김두한', '구마적'],\n",
    "    '나이':[20, 23],\n",
    "    '전화번호':['010-1234-1234', '010-1577-1577']\n",
    "}\n",
    "\n",
    "frame = pd.DataFrame(member, columns=['이름', '전화번호', '나이', '주소'], index=['01', '02'])\n",
    "print(frame)"
   ]
  },
  {
   "cell_type": "code",
   "execution_count": 9,
   "metadata": {},
   "outputs": [
    {
     "output_type": "stream",
     "name": "stdout",
     "text": [
      "    학교명  학급수  학생수  교사수\n01  사상고   25  620   80\n02  대저고   23  600   95\n03  가야고   15  550   70\n04  부산고   19  580   90\n05  개금고   10  400   65\n600\n학교명    부산고\n학급수     19\n교사수     90\nName: 04, dtype: object\n"
     ]
    }
   ],
   "source": [
    "data = {\n",
    "    '학교명':['사상고','대저고','가야고','부산고','개금고'],\n",
    "    '학급수':[25, 23, 15, 19, 10],\n",
    "    '학생수':[620, 600, 550, 580, 400],\n",
    "    '교사수':[80, 95, 70, 90, 65]\n",
    "}\n",
    "\n",
    "frame = pd.DataFrame(data, index=['01', '02', '03', '04', '05'])\n",
    "print(frame)\n",
    "\n",
    "print(frame.loc['02', '학생수'])\n",
    "print(frame.loc['04', ['학교명', '학급수', '교사수']])"
   ]
  },
  {
   "cell_type": "code",
   "execution_count": 10,
   "metadata": {},
   "outputs": [
    {
     "output_type": "stream",
     "name": "stdout",
     "text": [
      "    아이디 구매상품     가격  개수   구매일\n0   kim  상품A  15000   3  0303\n1  song  상품B  23000   5  0810\n2   han  상품C  33000   1  0120\n3  choi  상품D  50000  10  0601\n\nhan\n\n아이디     choi\n구매상품     상품D\nName: 3, dtype: object\n\n    아이디   구매일\n0   kim  0303\n1  song  0810\n2   han  0120\n3  choi  0601\n"
     ]
    }
   ],
   "source": [
    "data = {\n",
    "    '아이디':['kim','song','han','choi'],\n",
    "    '구매상품':['상품A', '상품B', '상품C', '상품D'],\n",
    "    '가격':[15000, 23000, 33000, 50000],\n",
    "    '개수':[3, 5, 1, 10],\n",
    "    '구매일':['0303', '0810', '0120', '0601']\n",
    "}\n",
    "\n",
    "frame = pd.DataFrame(data)\n",
    "print(frame)\n",
    "print()\n",
    "\n",
    "print(frame.iloc[2, 0])\n",
    "print()\n",
    "print(frame.iloc[3, :2])\n",
    "print()\n",
    "print(frame.iloc[:, [0,4]])"
   ]
  },
  {
   "cell_type": "code",
   "execution_count": null,
   "metadata": {},
   "outputs": [],
   "source": []
  }
 ]
}