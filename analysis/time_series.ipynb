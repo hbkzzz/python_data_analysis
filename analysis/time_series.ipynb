{
 "metadata": {
  "language_info": {
   "codemirror_mode": {
    "name": "ipython",
    "version": 3
   },
   "file_extension": ".py",
   "mimetype": "text/x-python",
   "name": "python",
   "nbconvert_exporter": "python",
   "pygments_lexer": "ipython3",
   "version": "3.8.5-final"
  },
  "orig_nbformat": 2,
  "kernelspec": {
   "name": "python3",
   "display_name": "Python 3.8.5 64-bit ('data': conda)",
   "metadata": {
    "interpreter": {
     "hash": "9ebbaee89113f7364a9a6c8f0a8094cfaac1b79eb96c51b85cd90c4f7c3ac661"
    }
   }
  }
 },
 "nbformat": 4,
 "nbformat_minor": 2,
 "cells": [
  {
   "cell_type": "code",
   "execution_count": 1,
   "metadata": {},
   "outputs": [
    {
     "output_type": "stream",
     "name": "stdout",
     "text": [
      "         Date  Close  Start   High    Low  Volume\n0  2018-07-02  10100  10850  10900  10000  137977\n1  2018-06-29  10700  10550  10900   9990  170253\n2  2018-06-28  10400  10900  10950  10150  155769\n3  2018-06-27  10900  10800  11050  10500  133548\n4  2018-06-26  10800  10900  11000  10700   63039\n"
     ]
    }
   ],
   "source": [
    "import pandas as pd\n",
    "\n",
    "# read_csv() 함수로 CSV 파일을 가져와서 df로 변환\n",
    "df = pd.read_csv('./stock-data.csv')\n",
    "\n",
    "# 데이터 내용 및 자료형 확인\n",
    "print(df.head())"
   ]
  },
  {
   "cell_type": "code",
   "execution_count": 2,
   "metadata": {},
   "outputs": [
    {
     "output_type": "stream",
     "name": "stdout",
     "text": [
      "<class 'pandas.core.frame.DataFrame'>\nRangeIndex: 20 entries, 0 to 19\nData columns (total 6 columns):\n #   Column  Non-Null Count  Dtype \n---  ------  --------------  ----- \n 0   Date    20 non-null     object\n 1   Close   20 non-null     int64 \n 2   Start   20 non-null     int64 \n 3   High    20 non-null     int64 \n 4   Low     20 non-null     int64 \n 5   Volume  20 non-null     int64 \ndtypes: int64(5), object(1)\nmemory usage: 1.1+ KB\nNone\n"
     ]
    }
   ],
   "source": [
    "print(df.info())"
   ]
  },
  {
   "cell_type": "code",
   "execution_count": 3,
   "metadata": {},
   "outputs": [
    {
     "output_type": "stream",
     "name": "stdout",
     "text": [
      "         Date  Close  Start   High    Low  Volume   new_Date\n0  2018-07-02  10100  10850  10900  10000  137977 2018-07-02\n1  2018-06-29  10700  10550  10900   9990  170253 2018-06-29\n2  2018-06-28  10400  10900  10950  10150  155769 2018-06-28\n3  2018-06-27  10900  10800  11050  10500  133548 2018-06-27\n4  2018-06-26  10800  10900  11000  10700   63039 2018-06-26\n"
     ]
    }
   ],
   "source": [
    "# 문자열 데이터(시리즈 객체)를 판다스 Timestamp로 변환\n",
    "df['new_Date'] = pd.to_datetime(df['Date'])   #df에 새로운 열로 추가\n",
    "\n",
    "# 데이터 내용 및 자료형 확인\n",
    "print(df.head())"
   ]
  },
  {
   "cell_type": "code",
   "execution_count": 4,
   "metadata": {},
   "outputs": [
    {
     "output_type": "stream",
     "name": "stdout",
     "text": [
      "<class 'pandas.core.frame.DataFrame'>\nRangeIndex: 20 entries, 0 to 19\nData columns (total 7 columns):\n #   Column    Non-Null Count  Dtype         \n---  ------    --------------  -----         \n 0   Date      20 non-null     object        \n 1   Close     20 non-null     int64         \n 2   Start     20 non-null     int64         \n 3   High      20 non-null     int64         \n 4   Low       20 non-null     int64         \n 5   Volume    20 non-null     int64         \n 6   new_Date  20 non-null     datetime64[ns]\ndtypes: datetime64[ns](1), int64(5), object(1)\nmemory usage: 1.2+ KB\nNone\n"
     ]
    }
   ],
   "source": [
    "print(df.info())"
   ]
  },
  {
   "cell_type": "code",
   "execution_count": 5,
   "metadata": {},
   "outputs": [
    {
     "output_type": "stream",
     "name": "stdout",
     "text": [
      "<class 'pandas._libs.tslibs.timestamps.Timestamp'>\n"
     ]
    }
   ],
   "source": [
    "print(type(df['new_Date'][0]))"
   ]
  },
  {
   "cell_type": "code",
   "execution_count": 6,
   "metadata": {},
   "outputs": [
    {
     "output_type": "stream",
     "name": "stdout",
     "text": [
      "            Close  Start   High    Low  Volume\nnew_Date                                      \n2018-07-02  10100  10850  10900  10000  137977\n2018-06-29  10700  10550  10900   9990  170253\n2018-06-28  10400  10900  10950  10150  155769\n2018-06-27  10900  10800  11050  10500  133548\n2018-06-26  10800  10900  11000  10700   63039\n"
     ]
    }
   ],
   "source": [
    "# 시계열 값으로 변환된 열을 새로운 행 인덱스로 지정. 기존 날짜 열은 삭제\n",
    "df.set_index('new_Date', inplace=True)\n",
    "df.drop('Date', axis=1, inplace=True)\n",
    "\n",
    "# 데이터 내용 및 자료형 확인\n",
    "print(df.head())"
   ]
  },
  {
   "cell_type": "code",
   "execution_count": 7,
   "metadata": {},
   "outputs": [
    {
     "output_type": "stream",
     "name": "stdout",
     "text": [
      "<class 'pandas.core.frame.DataFrame'>\nDatetimeIndex: 20 entries, 2018-07-02 to 2018-06-01\nData columns (total 5 columns):\n #   Column  Non-Null Count  Dtype\n---  ------  --------------  -----\n 0   Close   20 non-null     int64\n 1   Start   20 non-null     int64\n 2   High    20 non-null     int64\n 3   Low     20 non-null     int64\n 4   Volume  20 non-null     int64\ndtypes: int64(5)\nmemory usage: 960.0 bytes\nNone\n"
     ]
    }
   ],
   "source": [
    "print(df.info())"
   ]
  },
  {
   "cell_type": "code",
   "execution_count": 8,
   "metadata": {},
   "outputs": [
    {
     "output_type": "stream",
     "name": "stdout",
     "text": [
      "DatetimeIndex(['2019-01-01', '2020-03-01', '2021-06-01'], dtype='datetime64[ns]', freq=None)\n"
     ]
    }
   ],
   "source": [
    "# 날짜 형식의 문자열로 구성되는 리스트 정의\n",
    "dates = ['2019-01-01', '2020-03-01', '2021-06-01']\n",
    "\n",
    "# 문자열 데이터(시리즈 객체)를 판다스 Timestamp로 변환\n",
    "ts_dates = pd.to_datetime(dates)   \n",
    "print(ts_dates)"
   ]
  },
  {
   "cell_type": "code",
   "execution_count": 9,
   "metadata": {},
   "outputs": [
    {
     "output_type": "stream",
     "name": "stdout",
     "text": [
      "PeriodIndex(['2019-01-01', '2020-03-01', '2021-06-01'], dtype='period[D]', freq='D')\n"
     ]
    }
   ],
   "source": [
    "# Timestamp를 Period로 변환\n",
    "pr_day = ts_dates.to_period(freq='D')\n",
    "print(pr_day)"
   ]
  },
  {
   "cell_type": "code",
   "execution_count": 10,
   "metadata": {},
   "outputs": [
    {
     "output_type": "stream",
     "name": "stdout",
     "text": [
      "PeriodIndex(['2019-01', '2020-03', '2021-06'], dtype='period[M]', freq='M')\n"
     ]
    }
   ],
   "source": [
    "pr_month = ts_dates.to_period(freq='M')\n",
    "print(pr_month)"
   ]
  },
  {
   "cell_type": "code",
   "execution_count": 11,
   "metadata": {},
   "outputs": [
    {
     "output_type": "stream",
     "name": "stdout",
     "text": [
      "PeriodIndex(['2019', '2020', '2021'], dtype='period[A-DEC]', freq='A-DEC')\n"
     ]
    }
   ],
   "source": [
    "pr_year = ts_dates.to_period(freq='A')\n",
    "print(pr_year)"
   ]
  },
  {
   "cell_type": "code",
   "execution_count": 12,
   "metadata": {},
   "outputs": [
    {
     "output_type": "stream",
     "name": "stdout",
     "text": [
      "DatetimeIndex(['2019-01-01 00:00:00+09:00', '2019-02-01 00:00:00+09:00',\n               '2019-03-01 00:00:00+09:00', '2019-04-01 00:00:00+09:00',\n               '2019-05-01 00:00:00+09:00', '2019-06-01 00:00:00+09:00'],\n              dtype='datetime64[ns, Asia/Seoul]', freq='MS')\n"
     ]
    }
   ],
   "source": [
    "# Timestamp의 배열 만들기 - 월 간격, 월의 시작일 기준\n",
    "ts_ms = pd.date_range(\n",
    "    start='2019-01-01', # 날짜 범위의 시작\n",
    "    end=None,           # 날짜 범위의 끝\n",
    "    periods=6,          # 생성할 Timestamp의 개수\n",
    "    freq='MS',          # 시간 간격 (MS: 월의 시작일)\n",
    "    tz='Asia/Seoul'     # 시간대(timezone)\n",
    ")\n",
    "print(ts_ms)"
   ]
  },
  {
   "cell_type": "code",
   "execution_count": 13,
   "metadata": {},
   "outputs": [
    {
     "output_type": "stream",
     "name": "stdout",
     "text": [
      "DatetimeIndex(['2019-01-31 00:00:00+09:00', '2019-02-28 00:00:00+09:00',\n               '2019-03-31 00:00:00+09:00', '2019-04-30 00:00:00+09:00',\n               '2019-05-31 00:00:00+09:00', '2019-06-30 00:00:00+09:00'],\n              dtype='datetime64[ns, Asia/Seoul]', freq='M')\n"
     ]
    }
   ],
   "source": [
    "# 월 간격, 월의 마지막 날 기준\n",
    "ts_me = pd.date_range(\n",
    "    '2019-01-01', \n",
    "    periods=6, \n",
    "    freq='M',           # 시간 간격 (M: 월의 마지막 날)\n",
    "    tz='Asia/Seoul'     # 시간대(timezone)\n",
    ")       \n",
    "print(ts_me)"
   ]
  },
  {
   "cell_type": "code",
   "execution_count": 14,
   "metadata": {},
   "outputs": [
    {
     "output_type": "stream",
     "name": "stdout",
     "text": [
      "DatetimeIndex(['2019-01-31 00:00:00+09:00', '2019-04-30 00:00:00+09:00',\n               '2019-07-31 00:00:00+09:00', '2019-10-31 00:00:00+09:00',\n               '2020-01-31 00:00:00+09:00', '2020-04-30 00:00:00+09:00'],\n              dtype='datetime64[ns, Asia/Seoul]', freq='3M')\n"
     ]
    }
   ],
   "source": [
    "# 분기(3개월) 간격, 월의 마지막 날 기준\n",
    "ts_3m = pd.date_range(\n",
    "    '2019-01-01',\n",
    "    periods=6, \n",
    "    freq='3M',          # 시간 간격 (3M: 3개월)\n",
    "    tz='Asia/Seoul'     # 시간대(timezone)\n",
    ")\n",
    "print(ts_3m)"
   ]
  },
  {
   "cell_type": "code",
   "execution_count": 15,
   "metadata": {},
   "outputs": [
    {
     "output_type": "stream",
     "name": "stdout",
     "text": [
      "PeriodIndex(['2019-01', '2019-02', '2019-03'], dtype='period[M]', freq='M')\n"
     ]
    }
   ],
   "source": [
    "# Period 배열 만들기 - 1개월 길이\n",
    "pr_m = pd.period_range(\n",
    "    start='2019-01-01',     # 날짜 범위의 시작\n",
    "    end=None,               # 날짜 범위의 끝\n",
    "    periods=3,              # 생성할 Period 개수\n",
    "    freq='M'                # 기간의 길이 (M: 월)\n",
    ")                   \n",
    "print(pr_m)"
   ]
  },
  {
   "cell_type": "code",
   "execution_count": 16,
   "metadata": {},
   "outputs": [
    {
     "output_type": "stream",
     "name": "stdout",
     "text": [
      "PeriodIndex(['2019-01-01 00:00', '2019-01-01 01:00', '2019-01-01 02:00'], dtype='period[H]', freq='H')\n"
     ]
    }
   ],
   "source": [
    "# Period 배열 만들기 - 1시간 길이\n",
    "pr_h = pd.period_range(\n",
    "    start='2019-01-01',     # 날짜 범위의 시작\n",
    "    end=None,               # 날짜 범위의 끝\n",
    "    periods=3,              # 생성할 Period 개수\n",
    "    freq='H'                # 기간의 길이 (H: 시간)\n",
    ")                   \n",
    "print(pr_h)"
   ]
  },
  {
   "cell_type": "code",
   "execution_count": 17,
   "metadata": {},
   "outputs": [
    {
     "output_type": "stream",
     "name": "stdout",
     "text": [
      "PeriodIndex(['2019-01-01 00:00', '2019-01-01 02:00', '2019-01-01 04:00'], dtype='period[2H]', freq='2H')\n"
     ]
    }
   ],
   "source": [
    "# Period 배열 만들기 - 2시간 길이\n",
    "pr_2h = pd.period_range(\n",
    "    start='2019-01-01',     # 날짜 범위의 시작\n",
    "    end=None,               # 날짜 범위의 끝\n",
    "    periods=3,              # 생성할 Period 개수\n",
    "    freq='2H'               # 기간의 길이 (H: 시간)\n",
    ")                  \n",
    "print(pr_2h)"
   ]
  },
  {
   "cell_type": "code",
   "execution_count": 18,
   "metadata": {},
   "outputs": [
    {
     "output_type": "stream",
     "name": "stdout",
     "text": [
      "         Date  Close  Start   High    Low  Volume   new_Date\n0  2018-07-02  10100  10850  10900  10000  137977 2018-07-02\n1  2018-06-29  10700  10550  10900   9990  170253 2018-06-29\n2  2018-06-28  10400  10900  10950  10150  155769 2018-06-28\n3  2018-06-27  10900  10800  11050  10500  133548 2018-06-27\n4  2018-06-26  10800  10900  11000  10700   63039 2018-06-26\n"
     ]
    }
   ],
   "source": [
    "# read_csv() 함수로 파일 읽어와서 df로 변환\n",
    "df = pd.read_csv('./stock-data.csv')\n",
    "\n",
    "# 문자열인 날짜 데이터를 판다스 Timestamp로 변환\n",
    "df['new_Date'] = pd.to_datetime(df['Date'])   #df에 새로운 열로 추가\n",
    "print(df.head())"
   ]
  },
  {
   "cell_type": "code",
   "execution_count": 19,
   "metadata": {},
   "outputs": [
    {
     "output_type": "stream",
     "name": "stdout",
     "text": [
      "         Date  Close  Start   High    Low  Volume   new_Date  Year  Month  Day\n0  2018-07-02  10100  10850  10900  10000  137977 2018-07-02  2018      7    2\n1  2018-06-29  10700  10550  10900   9990  170253 2018-06-29  2018      6   29\n2  2018-06-28  10400  10900  10950  10150  155769 2018-06-28  2018      6   28\n3  2018-06-27  10900  10800  11050  10500  133548 2018-06-27  2018      6   27\n4  2018-06-26  10800  10900  11000  10700   63039 2018-06-26  2018      6   26\n"
     ]
    }
   ],
   "source": [
    "# dt 속성을 이용하여 new_Date 열의 년월일 정보를 년, 월, 일로 구분\n",
    "df['Year'] = df['new_Date'].dt.year\n",
    "df['Month'] = df['new_Date'].dt.month\n",
    "df['Day'] = df['new_Date'].dt.day\n",
    "print(df.head())"
   ]
  },
  {
   "cell_type": "code",
   "execution_count": 20,
   "metadata": {},
   "outputs": [
    {
     "output_type": "stream",
     "name": "stdout",
     "text": [
      "         Date  Close  Start   High    Low  Volume   new_Date  Year  Month  \\\n0  2018-07-02  10100  10850  10900  10000  137977 2018-07-02  2018      7   \n1  2018-06-29  10700  10550  10900   9990  170253 2018-06-29  2018      6   \n2  2018-06-28  10400  10900  10950  10150  155769 2018-06-28  2018      6   \n3  2018-06-27  10900  10800  11050  10500  133548 2018-06-27  2018      6   \n4  2018-06-26  10800  10900  11000  10700   63039 2018-06-26  2018      6   \n\n   Day Date_yr   Date_m  \n0    2    2018  2018-07  \n1   29    2018  2018-06  \n2   28    2018  2018-06  \n3   27    2018  2018-06  \n4   26    2018  2018-06  \n"
     ]
    }
   ],
   "source": [
    "# Timestamp를 Period로 변환하여 년월일 표기 변경하기\n",
    "df['Date_yr'] = df['new_Date'].dt.to_period(freq='A')\n",
    "df['Date_m'] = df['new_Date'].dt.to_period(freq='M')\n",
    "print(df.head())"
   ]
  },
  {
   "cell_type": "code",
   "execution_count": 21,
   "metadata": {},
   "outputs": [
    {
     "output_type": "stream",
     "name": "stdout",
     "text": [
      "               Date  Close  Start   High    Low  Volume   new_Date  Year  \\\nDate_m                                                                     \n2018-07  2018-07-02  10100  10850  10900  10000  137977 2018-07-02  2018   \n2018-06  2018-06-29  10700  10550  10900   9990  170253 2018-06-29  2018   \n2018-06  2018-06-28  10400  10900  10950  10150  155769 2018-06-28  2018   \n2018-06  2018-06-27  10900  10800  11050  10500  133548 2018-06-27  2018   \n2018-06  2018-06-26  10800  10900  11000  10700   63039 2018-06-26  2018   \n\n         Month  Day Date_yr  \nDate_m                       \n2018-07      7    2    2018  \n2018-06      6   29    2018  \n2018-06      6   28    2018  \n2018-06      6   27    2018  \n2018-06      6   26    2018  \n"
     ]
    }
   ],
   "source": [
    "# 원하는 열을 새로운 행 인덱스로 지정\n",
    "df.set_index('Date_m', inplace=True)\n",
    "print(df.head())"
   ]
  },
  {
   "cell_type": "code",
   "execution_count": 22,
   "metadata": {},
   "outputs": [
    {
     "output_type": "stream",
     "name": "stdout",
     "text": [
      "          Date  Close  Start   High    Low  Volume\n0   2018-07-02  10100  10850  10900  10000  137977\n1   2018-06-29  10700  10550  10900   9990  170253\n2   2018-06-28  10400  10900  10950  10150  155769\n3   2018-06-27  10900  10800  11050  10500  133548\n4   2018-06-26  10800  10900  11000  10700   63039\n5   2018-06-25  11150  11400  11450  11000   55519\n6   2018-06-22  11300  11250  11450  10750  134805\n7   2018-06-21  11200  11350  11750  11200  133002\n8   2018-06-20  11550  11200  11600  10900  308596\n9   2018-06-19  11300  11850  11950  11300  180656\n10  2018-06-18  12000  13400  13400  12000  309787\n11  2018-06-15  13400  13600  13600  12900  201376\n12  2018-06-14  13450  13200  13700  13150  347451\n13  2018-06-12  13200  12200  13300  12050  558148\n14  2018-06-11  11950  12000  12250  11950   62293\n15  2018-06-08  11950  11950  12200  11800   59258\n16  2018-06-07  11950  12200  12300  11900   49088\n17  2018-06-05  12150  11800  12250  11800   42485\n18  2018-06-04  11900  11900  12200  11700   25171\n19  2018-06-01  11900  11800  12100  11750   32062\n"
     ]
    }
   ],
   "source": [
    "import pandas as pd\n",
    "\n",
    "# read_csv() 함수로 파일 읽어와서 df로 변환\n",
    "df = pd.read_csv('./stock-data.csv')\n",
    "\n",
    "print(df)"
   ]
  },
  {
   "cell_type": "code",
   "execution_count": 23,
   "metadata": {},
   "outputs": [
    {
     "output_type": "stream",
     "name": "stdout",
     "text": [
      "                  Date  Close  Start   High    Low  Volume\nnew_Date                                                  \n2018-07-02  2018-07-02  10100  10850  10900  10000  137977\n2018-06-29  2018-06-29  10700  10550  10900   9990  170253\n2018-06-28  2018-06-28  10400  10900  10950  10150  155769\n2018-06-27  2018-06-27  10900  10800  11050  10500  133548\n2018-06-26  2018-06-26  10800  10900  11000  10700   63039\n"
     ]
    }
   ],
   "source": [
    "# 문자열인 날짜 데이터를 판다스 Timestamp로 변환\n",
    "df['new_Date'] = pd.to_datetime(df['Date'])   # 새로운 열에 추가\n",
    "df.set_index('new_Date', inplace=True)        # 행 인덱스로 지정\n",
    "\n",
    "print(df.head())"
   ]
  },
  {
   "cell_type": "code",
   "execution_count": 24,
   "metadata": {},
   "outputs": [
    {
     "output_type": "stream",
     "name": "stdout",
     "text": [
      "DatetimeIndex(['2018-07-02', '2018-06-29', '2018-06-28', '2018-06-27',\n               '2018-06-26', '2018-06-25', '2018-06-22', '2018-06-21',\n               '2018-06-20', '2018-06-19', '2018-06-18', '2018-06-15',\n               '2018-06-14', '2018-06-12', '2018-06-11', '2018-06-08',\n               '2018-06-07', '2018-06-05', '2018-06-04', '2018-06-01'],\n              dtype='datetime64[ns]', name='new_Date', freq=None)\n"
     ]
    }
   ],
   "source": [
    "print(df.index)"
   ]
  },
  {
   "cell_type": "code",
   "execution_count": 25,
   "metadata": {},
   "outputs": [
    {
     "output_type": "stream",
     "name": "stdout",
     "text": [
      "                  Date  Close  Start   High    Low  Volume\nnew_Date                                                  \n2018-07-02  2018-07-02  10100  10850  10900  10000  137977\n2018-06-29  2018-06-29  10700  10550  10900   9990  170253\n2018-06-28  2018-06-28  10400  10900  10950  10150  155769\n2018-06-27  2018-06-27  10900  10800  11050  10500  133548\n2018-06-26  2018-06-26  10800  10900  11000  10700   63039\n"
     ]
    }
   ],
   "source": [
    "# 날짜 인덱스를 이용하여 데이터 선택하기\n",
    "df_y = df['2018']\n",
    "print(df_y.head())"
   ]
  },
  {
   "cell_type": "code",
   "execution_count": 26,
   "metadata": {},
   "outputs": [
    {
     "output_type": "stream",
     "name": "stdout",
     "text": [
      "                  Date  Close  Start   High    Low  Volume\nnew_Date                                                  \n2018-07-02  2018-07-02  10100  10850  10900  10000  137977\n"
     ]
    }
   ],
   "source": [
    "df_ym = df.loc['2018-07']    # loc 인덱서 활용\n",
    "print(df_ym)"
   ]
  },
  {
   "cell_type": "code",
   "execution_count": 27,
   "metadata": {},
   "outputs": [
    {
     "output_type": "stream",
     "name": "stdout",
     "text": [
      "            Start   High\nnew_Date                \n2018-07-02  10850  10900\n"
     ]
    }
   ],
   "source": [
    "df_ym_cols = df.loc['2018-07', 'Start':'High']    # 열 범위 슬라이싱\n",
    "print(df_ym_cols)"
   ]
  },
  {
   "cell_type": "code",
   "execution_count": 28,
   "metadata": {},
   "outputs": [
    {
     "output_type": "stream",
     "name": "stdout",
     "text": [
      "                  Date  Close  Start   High    Low  Volume\nnew_Date                                                  \n2018-07-02  2018-07-02  10100  10850  10900  10000  137977\n"
     ]
    }
   ],
   "source": [
    "df_ymd = df.loc['2018-07-02']\n",
    "print(df_ymd)"
   ]
  },
  {
   "cell_type": "code",
   "execution_count": 29,
   "metadata": {},
   "outputs": [
    {
     "output_type": "stream",
     "name": "stdout",
     "text": [
      "                  Date  Close  Start   High    Low  Volume\nnew_Date                                                  \n2018-06-25  2018-06-25  11150  11400  11450  11000   55519\n2018-06-22  2018-06-22  11300  11250  11450  10750  134805\n2018-06-21  2018-06-21  11200  11350  11750  11200  133002\n2018-06-20  2018-06-20  11550  11200  11600  10900  308596\n"
     ]
    }
   ],
   "source": [
    "df_ymd_range = df['2018-06-25':'2018-06-20']    # 날짜 범위 지정\n",
    "print(df_ymd_range)"
   ]
  },
  {
   "cell_type": "code",
   "execution_count": 30,
   "metadata": {},
   "outputs": [
    {
     "output_type": "stream",
     "name": "stdout",
     "text": [
      "                  Date  Close  Start   High    Low  Volume\ntime_delta                                                \n180 days    2018-06-28  10400  10900  10950  10150  155769\n181 days    2018-06-27  10900  10800  11050  10500  133548\n182 days    2018-06-26  10800  10900  11000  10700   63039\n183 days    2018-06-25  11150  11400  11450  11000   55519\n186 days    2018-06-22  11300  11250  11450  10750  134805\n187 days    2018-06-21  11200  11350  11750  11200  133002\n188 days    2018-06-20  11550  11200  11600  10900  308596\n189 days    2018-06-19  11300  11850  11950  11300  180656\n"
     ]
    }
   ],
   "source": [
    "# 시간 간격 계산. 최근 180일 ~ 189일 사이의 값들만 선택하기\n",
    "today = pd.to_datetime('2018-12-25')            # 기준일 생성\n",
    "df['time_delta'] = today - df.index             # 날짜 차이 계산\n",
    "df.set_index('time_delta', inplace=True)        # 행 인덱스로 지정\n",
    "df_180 = df['180 days':'189 days']\n",
    "print(df_180)"
   ]
  },
  {
   "cell_type": "code",
   "execution_count": null,
   "metadata": {},
   "outputs": [],
   "source": []
  }
 ]
}