{
 "metadata": {
  "language_info": {
   "codemirror_mode": {
    "name": "ipython",
    "version": 3
   },
   "file_extension": ".py",
   "mimetype": "text/x-python",
   "name": "python",
   "nbconvert_exporter": "python",
   "pygments_lexer": "ipython3",
   "version": "3.8.5-final"
  },
  "orig_nbformat": 2,
  "kernelspec": {
   "name": "python3",
   "display_name": "Python 3"
  }
 },
 "nbformat": 4,
 "nbformat_minor": 2,
 "cells": [
  {
   "cell_type": "code",
   "execution_count": 1,
   "metadata": {},
   "outputs": [
    {
     "output_type": "stream",
     "name": "stdout",
     "text": [
      "[1 2 3 4 5]\n<class 'numpy.ndarray'>\nint32\n"
     ]
    }
   ],
   "source": [
    "import numpy as np\n",
    "\n",
    "data = np.array([1,2,3,4,5])\n",
    "print(data)\n",
    "print(type(data))\n",
    "print(data.dtype)"
   ]
  },
  {
   "cell_type": "code",
   "execution_count": 2,
   "metadata": {},
   "outputs": [
    {
     "output_type": "stream",
     "name": "stdout",
     "text": [
      "[[ 0.95170246 -1.65068799 -1.41136196]\n [ 0.01792897 -0.90958468  0.36861039]]\n(2, 3)\nfloat64\n"
     ]
    }
   ],
   "source": [
    "data = np.random.randn(2,3)\n",
    "print(data)\n",
    "print(data.shape)\n",
    "print(data.dtype)"
   ]
  },
  {
   "cell_type": "code",
   "execution_count": 3,
   "metadata": {},
   "outputs": [
    {
     "output_type": "stream",
     "name": "stdout",
     "text": [
      "[0. 0. 0. 0. 0. 0. 0. 0. 0. 0.]\nfloat64\n[[0. 0. 0.]\n [0. 0. 0.]]\n[[0 0 0]\n [0 0 0]]\nint32\n"
     ]
    }
   ],
   "source": [
    "data1 = np.zeros(10)\n",
    "print(data1)\n",
    "print(data1.dtype)\n",
    "\n",
    "data2 = np.zeros((2, 3))\n",
    "print(data2)\n",
    "\n",
    "data3 = np.zeros((2, 3), dtype=np.int32)\n",
    "print(data3)\n",
    "print(data3.dtype)"
   ]
  },
  {
   "cell_type": "code",
   "execution_count": 4,
   "metadata": {},
   "outputs": [
    {
     "output_type": "stream",
     "name": "stdout",
     "text": [
      "[1. 1. 1. 1. 1. 1. 1. 1.]\nfloat64\n[[1 1 1 1]\n [1 1 1 1]\n [1 1 1 1]]\nint32\n"
     ]
    }
   ],
   "source": [
    "data1 = np.ones(8)\n",
    "print(data1)\n",
    "print(data1.dtype)\n",
    "\n",
    "data2 = np.ones((3, 4), dtype=np.int32)\n",
    "print(data2)\n",
    "print(data2.dtype)"
   ]
  },
  {
   "cell_type": "code",
   "execution_count": 5,
   "metadata": {},
   "outputs": [
    {
     "output_type": "stream",
     "name": "stdout",
     "text": [
      "[ 10  20  30  40  50  60  70  80  90 100 110 120]\n30\n[60 70 80]\nint32\n[ 10  20  30  40  50  60  70 800 800 800 110 120]\n[[ 10  20  30  40  50  60]\n [ 70 800 800 800 110 120]]\nint32\n"
     ]
    }
   ],
   "source": [
    "data = np.arange(10, 121, 10)\n",
    "print(data)\n",
    "print(data[2])\n",
    "print(data[5:8])\n",
    "print(data.dtype)\n",
    "\n",
    "data[7:10] = 800\n",
    "print(data)\n",
    "\n",
    "data2 = data.reshape(2, 6)\n",
    "print(data2)\n",
    "print(data2.dtype)"
   ]
  },
  {
   "cell_type": "code",
   "execution_count": 6,
   "metadata": {},
   "outputs": [
    {
     "output_type": "stream",
     "name": "stdout",
     "text": [
      "[[ 1  2  3  4  5]\n [ 6  7  8  9 10]\n [11 12 13 14 15]]\n14\n[2 3 4 5]\n[1 2 3 4 5]\n[[ 6  7  8  9 10]\n [11 12 13 14 15]]\n\n[[  1   2   3   4   5]\n [100 100 100 100 100]\n [ 11  12  13  14  15]]\n\n[[200 200 200 200 200]\n [200 200 200 200 200]\n [200 200 200 200 200]]\n"
     ]
    }
   ],
   "source": [
    "data = np.array([\n",
    "    [1,2,3,4,5],\n",
    "    [6,7,8,9,10],\n",
    "    [11,12,13,14,15]\n",
    "])\n",
    "\n",
    "print(data)\n",
    "print(data[2][3])\n",
    "print(data[0][1:])\n",
    "print(data[0])\n",
    "print(data[[1,2]])\n",
    "print()\n",
    "\n",
    "data[1] = 100\n",
    "print(data)\n",
    "print()\n",
    "\n",
    "data[:] = 200\n",
    "print(data)"
   ]
  },
  {
   "cell_type": "code",
   "execution_count": 7,
   "metadata": {},
   "outputs": [
    {
     "output_type": "stream",
     "name": "stdout",
     "text": [
      "[[ 20  14 -16  -4]\n [ -4   4  16   6]\n [ 12 -16 -10   6]]\n\n[[100  49  64   4]\n [  4   4  64   9]\n [ 36  64  25   9]]\n\n[[False False  True  True]\n [ True False False False]\n [False  True  True False]]\n"
     ]
    }
   ],
   "source": [
    "a = np.array([\n",
    "    [10,7,-8,-2],\n",
    "    [-2,2,8,3],\n",
    "    [6,-8,-5,3]\n",
    "])\n",
    "\n",
    "b = a * 2\n",
    "print(b)\n",
    "print()\n",
    "\n",
    "c = a * a\n",
    "print(c)\n",
    "print()\n",
    "\n",
    "print(a > b)"
   ]
  },
  {
   "cell_type": "code",
   "execution_count": 8,
   "metadata": {},
   "outputs": [
    {
     "output_type": "stream",
     "name": "stdout",
     "text": [
      "1002\n83.5\n100\n65\n\n[ 98 100  90  93]\n[ 93  88 100]\n\n[2 2 0 0] [1 0 2]\n"
     ]
    }
   ],
   "source": [
    "data = np.array([\n",
    "    [80, 78, 90, 93],\n",
    "    [65, 87, 88, 75],\n",
    "    [98, 100, 68, 80]\n",
    "])\n",
    "\n",
    "print(data.sum())\n",
    "print(data.mean())\n",
    "print(data.max())\n",
    "print(data.min())\n",
    "print()\n",
    "\n",
    "print(data.max(axis=0))\n",
    "print(data.max(axis=1))\n",
    "print()\n",
    "\n",
    "index1 = np.argmax(data, axis=0)\n",
    "index2 = np.argmin(data, axis=1)\n",
    "print(index1, index2)"
   ]
  },
  {
   "cell_type": "code",
   "execution_count": null,
   "metadata": {},
   "outputs": [],
   "source": []
  }
 ]
}